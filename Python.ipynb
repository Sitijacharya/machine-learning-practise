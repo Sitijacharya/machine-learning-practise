{
 "cells": [
  {
   "cell_type": "code",
   "execution_count": 2,
   "id": "b97b0254-16af-4ad2-9ee2-d190138bb06c",
   "metadata": {},
   "outputs": [],
   "source": [
    "print(\"Hello World\")"
   ]
  },
  {
   "cell_type": "code",
   "execution_count": 9,
   "id": "f50edb91-4b6e-43df-9ce3-1c1465a098ed",
   "metadata": {},
   "outputs": [
    {
     "name": "stdout",
     "output_type": "stream",
     "text": [
      "<class 'str'>\n"
     ]
    }
   ],
   "source": [
    "a=(\"2.89\")\n",
    "print(type(a))"
   ]
  },
  {
   "cell_type": "code",
   "execution_count": 8,
   "id": "2ccc2b51-745e-45b7-a8a8-6efb8c9eed5d",
   "metadata": {},
   "outputs": [
    {
     "name": "stdout",
     "output_type": "stream",
     "text": [
      "2.89\n",
      "<class 'NoneType'>\n"
     ]
    }
   ],
   "source": [
    "print(2.89)\n",
    "print(type(a))"
   ]
  },
  {
   "cell_type": "code",
   "execution_count": 10,
   "id": "30b18541-293b-4d7a-a23e-7277ce5ced4d",
   "metadata": {},
   "outputs": [
    {
     "name": "stdout",
     "output_type": "stream",
     "text": [
      " HEllo guys \n",
      "k xa khabr\n"
     ]
    }
   ],
   "source": [
    "print(\"\"\" HEllo guys \n",
    "k xa khabr\"\"\")"
   ]
  },
  {
   "cell_type": "code",
   "execution_count": 11,
   "id": "0b8cbde2-710b-45de-87bc-b942d2fa893e",
   "metadata": {},
   "outputs": [
    {
     "data": {
      "text/plain": [
       "str"
      ]
     },
     "execution_count": 11,
     "metadata": {},
     "output_type": "execute_result"
    }
   ],
   "source": [
    "type(\"sitij\")"
   ]
  },
  {
   "cell_type": "code",
   "execution_count": 12,
   "id": "c7ceee6a-b8de-46b7-b0f3-44b33e22f741",
   "metadata": {},
   "outputs": [
    {
     "data": {
      "text/plain": [
       "int"
      ]
     },
     "execution_count": 12,
     "metadata": {},
     "output_type": "execute_result"
    }
   ],
   "source": [
    "type(100)"
   ]
  },
  {
   "cell_type": "code",
   "execution_count": 13,
   "id": "a162afd5-20f8-4dd7-b11c-30adb2fc5ffd",
   "metadata": {},
   "outputs": [
    {
     "data": {
      "text/plain": [
       "8"
      ]
     },
     "execution_count": 13,
     "metadata": {},
     "output_type": "execute_result"
    }
   ],
   "source": [
    "2+6"
   ]
  },
  {
   "cell_type": "code",
   "execution_count": 14,
   "id": "1df3576d-a670-4ed6-b890-377e7a3553b3",
   "metadata": {},
   "outputs": [
    {
     "name": "stdout",
     "output_type": "stream",
     "text": [
      "8\n"
     ]
    }
   ],
   "source": [
    "print(2+6)"
   ]
  },
  {
   "cell_type": "code",
   "execution_count": 16,
   "id": "c1e45ad7-759d-4dac-b8ea-f23f2ba9c631",
   "metadata": {},
   "outputs": [
    {
     "name": "stdout",
     "output_type": "stream",
     "text": [
      "I want to study 49 hours in a week\n"
     ]
    }
   ],
   "source": [
    "print(f\"I want to study {7*7} hours in a week\")"
   ]
  },
  {
   "cell_type": "code",
   "execution_count": 17,
   "id": "a8d4623c-94a5-4288-88d0-c8caec9ef5b8",
   "metadata": {},
   "outputs": [
    {
     "name": "stdout",
     "output_type": "stream",
     "text": [
      "5\n"
     ]
    }
   ],
   "source": [
    "age=5\n",
    "print(age)"
   ]
  },
  {
   "cell_type": "code",
   "execution_count": 18,
   "id": "7deaef15-1c98-42eb-ba6b-e7f5ba6403e1",
   "metadata": {},
   "outputs": [
    {
     "name": "stdout",
     "output_type": "stream",
     "text": [
      "24\n"
     ]
    }
   ],
   "source": [
    "age=24\n",
    "print(age)"
   ]
  },
  {
   "cell_type": "code",
   "execution_count": 20,
   "id": "6a153520-5e10-4b63-b174-1158b255ba34",
   "metadata": {},
   "outputs": [
    {
     "name": "stdout",
     "output_type": "stream",
     "text": [
      "My age is 24 \n"
     ]
    }
   ],
   "source": [
    "print(f\"My age is {age} \")"
   ]
  },
  {
   "cell_type": "code",
   "execution_count": 23,
   "id": "1c6463b0-a046-4818-94c5-2f49d3c22fce",
   "metadata": {},
   "outputs": [
    {
     "ename": "ModuleNotFoundError",
     "evalue": "No module named 'helper_functions'",
     "output_type": "error",
     "traceback": [
      "\u001b[0;31m---------------------------------------------------------------------------\u001b[0m",
      "\u001b[0;31mModuleNotFoundError\u001b[0m                       Traceback (most recent call last)",
      "Cell \u001b[0;32mIn[23], line 1\u001b[0m\n\u001b[0;32m----> 1\u001b[0m \u001b[38;5;28;01mfrom\u001b[39;00m \u001b[38;5;21;01mhelper_functions\u001b[39;00m \u001b[38;5;28;01mimport\u001b[39;00m print_llm_response\n",
      "\u001b[0;31mModuleNotFoundError\u001b[0m: No module named 'helper_functions'"
     ]
    }
   ],
   "source": [
    "from helper_functions import print_llm_response"
   ]
  },
  {
   "cell_type": "code",
   "execution_count": 24,
   "id": "7070d33f-b225-4b2d-b6fa-a41208796956",
   "metadata": {},
   "outputs": [
    {
     "data": {
      "text/plain": [
       "11"
      ]
     },
     "execution_count": 24,
     "metadata": {},
     "output_type": "execute_result"
    }
   ],
   "source": [
    "len(\"hello world\")"
   ]
  },
  {
   "cell_type": "code",
   "execution_count": 25,
   "id": "3a9f10c0-a532-4bcc-999f-aa1779971adc",
   "metadata": {},
   "outputs": [
    {
     "data": {
      "text/plain": [
       "42"
      ]
     },
     "execution_count": 25,
     "metadata": {},
     "output_type": "execute_result"
    }
   ],
   "source": [
    "round(42.17)"
   ]
  },
  {
   "cell_type": "code",
   "execution_count": 26,
   "id": "fd381a58-5eb2-41d9-ac60-fa93b97c100a",
   "metadata": {},
   "outputs": [
    {
     "ename": "NameError",
     "evalue": "name 'str_len' is not defined",
     "output_type": "error",
     "traceback": [
      "\u001b[0;31m---------------------------------------------------------------------------\u001b[0m",
      "\u001b[0;31mNameError\u001b[0m                                 Traceback (most recent call last)",
      "Cell \u001b[0;32mIn[26], line 1\u001b[0m\n\u001b[0;32m----> 1\u001b[0m str_len(\u001b[38;5;124m\"\u001b[39m\u001b[38;5;124mhello world\u001b[39m\u001b[38;5;124m\"\u001b[39m)\n",
      "\u001b[0;31mNameError\u001b[0m: name 'str_len' is not defined"
     ]
    }
   ],
   "source": [
    "str_len(\"hello world\")"
   ]
  },
  {
   "cell_type": "code",
   "execution_count": 28,
   "id": "1453b4f2-f3e2-431b-9a83-43d561d3a11f",
   "metadata": {},
   "outputs": [
    {
     "name": "stdout",
     "output_type": "stream",
     "text": [
      "you cannot vote because your age is 12 \n"
     ]
    }
   ],
   "source": [
    "age=12\n",
    "if age>18:\n",
    "    print(f\"you can vote because your age is {age} \")\n",
    "else:\n",
    "    print(f\"you cannot vote because your age is {age} \")"
   ]
  },
  {
   "cell_type": "code",
   "execution_count": 33,
   "id": "6a976a45-88ae-4130-ac16-1a09550d274c",
   "metadata": {},
   "outputs": [
    {
     "name": "stdout",
     "output_type": "stream",
     "text": [
      "Correct indentation\n",
      "this will print\n",
      "k xa\n"
     ]
    }
   ],
   "source": [
    "#Code example of indentation\n",
    "if True:\n",
    "    print(\"Correct indentation\")\n",
    "    if False:\n",
    "        print(\"THis wont print\")\n",
    "    print(\"this will print\")\n",
    "print(\"k xa\")"
   ]
  },
  {
   "cell_type": "code",
   "execution_count": 38,
   "id": "0db4bd9c-f5d8-4e17-a9e0-90d2d40e0dd8",
   "metadata": {},
   "outputs": [
    {
     "name": "stdout",
     "output_type": "stream",
     "text": [
      "ram\n",
      "32\n"
     ]
    }
   ],
   "source": [
    "age=32\n",
    "name=\"ram\"\n",
    "print(name)\n",
    "print(age)"
   ]
  },
  {
   "cell_type": "code",
   "execution_count": 43,
   "id": "05ee8ed0-3d74-439a-a5c9-f5312d1ff205",
   "metadata": {},
   "outputs": [
    {
     "name": "stdout",
     "output_type": "stream",
     "text": [
      "age 32\n"
     ]
    }
   ],
   "source": [
    "print(\"age\",age)"
   ]
  },
  {
   "cell_type": "code",
   "execution_count": 41,
   "id": "f5ebb46e-0eda-4d34-9fff-69bf6ec0cfbe",
   "metadata": {},
   "outputs": [
    {
     "name": "stdout",
     "output_type": "stream",
     "text": [
      "age: 32\n"
     ]
    }
   ],
   "source": [
    "print(f\"age: {age}\")"
   ]
  },
  {
   "cell_type": "code",
   "execution_count": 44,
   "id": "1c01e7aa-9b39-4086-b272-0c1d5102a496",
   "metadata": {},
   "outputs": [
    {
     "data": {
      "text/plain": [
       "str"
      ]
     },
     "execution_count": 44,
     "metadata": {},
     "output_type": "execute_result"
    }
   ],
   "source": [
    "type(name)"
   ]
  },
  {
   "cell_type": "code",
   "execution_count": 45,
   "id": "6f1ee8bb-b031-4ef3-9bb4-edd480378df7",
   "metadata": {},
   "outputs": [
    {
     "data": {
      "text/plain": [
       "int"
      ]
     },
     "execution_count": 45,
     "metadata": {},
     "output_type": "execute_result"
    }
   ],
   "source": [
    "type(age)"
   ]
  },
  {
   "cell_type": "code",
   "execution_count": 46,
   "id": "044eb2f8-1f94-44b6-b5a3-8cfec58ed5cd",
   "metadata": {},
   "outputs": [
    {
     "name": "stdout",
     "output_type": "stream",
     "text": [
      "32\n",
      "<class 'str'>\n"
     ]
    }
   ],
   "source": [
    "age_str=str(age)\n",
    "print(age_str)\n",
    "print(type(age_str))"
   ]
  },
  {
   "cell_type": "code",
   "execution_count": 53,
   "id": "921f7a3b-64b6-48bc-9e23-d6f8b3f54f7f",
   "metadata": {},
   "outputs": [
    {
     "name": "stdout",
     "output_type": "stream",
     "text": [
      "25\n",
      "<class 'str'>\n",
      "25\n",
      "<class 'str'>\n"
     ]
    }
   ],
   "source": [
    "age=\"25\"\n",
    "print(age)\n",
    "print(type(age))\n",
    "print(int(age))\n",
    "print(type(age))"
   ]
  },
  {
   "cell_type": "code",
   "execution_count": 51,
   "id": "ae53679f-bdfe-4ae2-9f50-3dd1ca5ac667",
   "metadata": {},
   "outputs": [
    {
     "data": {
      "text/plain": [
       "str"
      ]
     },
     "execution_count": 51,
     "metadata": {},
     "output_type": "execute_result"
    }
   ],
   "source": [
    "type(age)"
   ]
  },
  {
   "cell_type": "code",
   "execution_count": 52,
   "id": "f9613f38-e667-46b0-9862-48c176de1919",
   "metadata": {},
   "outputs": [
    {
     "name": "stdout",
     "output_type": "stream",
     "text": [
      "25\n"
     ]
    }
   ],
   "source": [
    "print(int(age))"
   ]
  },
  {
   "cell_type": "code",
   "execution_count": 55,
   "id": "386f4460-623a-43c2-a49a-b269199f73b0",
   "metadata": {},
   "outputs": [
    {
     "name": "stdout",
     "output_type": "stream",
     "text": [
      "10 <class 'int'>\n",
      "HEllo <class 'str'>\n"
     ]
    }
   ],
   "source": [
    "var=10\n",
    "print(var,type(var))\n",
    "var=\"HEllo\"\n",
    "print(var,type(var))"
   ]
  },
  {
   "cell_type": "code",
   "execution_count": 63,
   "id": "2c4af19c-17fc-4696-b5b8-cf9a16c97e39",
   "metadata": {},
   "outputs": [
    {
     "name": "stdout",
     "output_type": "stream",
     "text": [
      "What is the age 10\n"
     ]
    },
    {
     "name": "stdout",
     "output_type": "stream",
     "text": [
      "the age: 10\n"
     ]
    }
   ],
   "source": [
    "age=input(\"What is the age\")\n",
    "print(\"the age:\",age)"
   ]
  },
  {
   "cell_type": "code",
   "execution_count": 69,
   "id": "170ddfbc-de44-4bb9-bc8c-c7b74ccb31b1",
   "metadata": {},
   "outputs": [
    {
     "name": "stdout",
     "output_type": "stream",
     "text": [
      "enter the first number 12\n",
      "enter the second number 1\n"
     ]
    },
    {
     "name": "stdout",
     "output_type": "stream",
     "text": [
      "sum: 13.0\n",
      "mul: 12.0\n",
      "quo: 12.0\n",
      "diff: 11.0\n"
     ]
    }
   ],
   "source": [
    "# Caclulator using python add, sub ,mul ,div\n",
    "num1=float(input(\"enter the first number\"))\n",
    "num2= float(input(\"enter the second number\"))\n",
    "mul=num1*num2\n",
    "sum=num1+num2\n",
    "difference=num1-num2\n",
    "quotient=num1/num2\n",
    "print(\"sum:\",sum)\n",
    "print(\"mul:\",mul)\n",
    "print(\"quo:\",quotient)\n",
    "print(\"diff:\",difference)"
   ]
  },
  {
   "cell_type": "code",
   "execution_count": 1,
   "id": "0446963b-d36c-4203-92e7-c10144c10b82",
   "metadata": {},
   "outputs": [
    {
     "name": "stdout",
     "output_type": "stream",
     "text": [
      "hello world\n"
     ]
    }
   ],
   "source": [
    "print(\"hello world\")"
   ]
  },
  {
   "cell_type": "code",
   "execution_count": 3,
   "id": "fe12aa61",
   "metadata": {},
   "outputs": [
    {
     "data": {
      "text/plain": [
       "int"
      ]
     },
     "execution_count": 3,
     "metadata": {},
     "output_type": "execute_result"
    }
   ],
   "source": [
    "#integer example\n",
    "age=35\n",
    "type(age)"
   ]
  },
  {
   "cell_type": "code",
   "execution_count": 4,
   "id": "57c0a5e2",
   "metadata": {},
   "outputs": [
    {
     "name": "stdout",
     "output_type": "stream",
     "text": [
      "<class 'float'>\n"
     ]
    }
   ],
   "source": [
    "width=32.33\n",
    "print(type(width))\n"
   ]
  },
  {
   "cell_type": "code",
   "execution_count": 5,
   "id": "dfeaeb1f",
   "metadata": {},
   "outputs": [
    {
     "data": {
      "text/plain": [
       "bool"
      ]
     },
     "execution_count": 5,
     "metadata": {},
     "output_type": "execute_result"
    }
   ],
   "source": [
    "tf=True\n",
    "type(tf)"
   ]
  },
  {
   "cell_type": "code",
   "execution_count": 6,
   "id": "e22e12de",
   "metadata": {},
   "outputs": [
    {
     "data": {
      "text/plain": [
       "False"
      ]
     },
     "execution_count": 6,
     "metadata": {},
     "output_type": "execute_result"
    }
   ],
   "source": [
    "bool()"
   ]
  },
  {
   "cell_type": "code",
   "execution_count": 7,
   "id": "cf1e6317",
   "metadata": {},
   "outputs": [
    {
     "data": {
      "text/plain": [
       "bool"
      ]
     },
     "execution_count": 7,
     "metadata": {},
     "output_type": "execute_result"
    }
   ],
   "source": [
    "a=10\n",
    "b=20\n",
    "type(a==b)"
   ]
  },
  {
   "cell_type": "code",
   "execution_count": 12,
   "id": "64cf65cc",
   "metadata": {},
   "outputs": [
    {
     "name": "stdout",
     "output_type": "stream",
     "text": [
      "hello10\n"
     ]
    }
   ],
   "source": [
    "result=\"hello\"+str(10)\n",
    "print(result)"
   ]
  },
  {
   "cell_type": "code",
   "execution_count": 16,
   "id": "ef5009a6",
   "metadata": {},
   "outputs": [
    {
     "name": "stdout",
     "output_type": "stream",
     "text": [
      "<class 'int'>\n",
      "<class 'str'>\n"
     ]
    }
   ],
   "source": [
    "age=10\n",
    "print(type(age))\n",
    "str(age)\n",
    "print(type(str(age)))"
   ]
  },
  {
   "cell_type": "code",
   "execution_count": 17,
   "id": "edd107b5",
   "metadata": {},
   "outputs": [
    {
     "name": "stdout",
     "output_type": "stream",
     "text": [
      "15\n"
     ]
    }
   ],
   "source": [
    "a=5\n",
    "b=10\n",
    "sum=a+b\n",
    "print(sum)"
   ]
  },
  {
   "cell_type": "code",
   "execution_count": 23,
   "id": "1f94c87a",
   "metadata": {},
   "outputs": [
    {
     "data": {
      "text/plain": [
       "False"
      ]
     },
     "execution_count": 23,
     "metadata": {},
     "output_type": "execute_result"
    }
   ],
   "source": [
    "a=int(123)\n",
    "b=float(123)\n",
    "a==b\n",
    "type(a)==type(b)"
   ]
  },
  {
   "cell_type": "code",
   "execution_count": 19,
   "id": "f4a0b25a",
   "metadata": {},
   "outputs": [
    {
     "name": "stdout",
     "output_type": "stream",
     "text": [
      "True\n"
     ]
    }
   ],
   "source": [
    "print(a!=b)"
   ]
  },
  {
   "cell_type": "code",
   "execution_count": 24,
   "id": "a1f89d43",
   "metadata": {},
   "outputs": [
    {
     "name": "stdout",
     "output_type": "stream",
     "text": [
      "you are in prime age\n"
     ]
    }
   ],
   "source": [
    "# if statement\n",
    "age=float(input(\"enter your age\"))\n",
    "if age<15:\n",
    "    print(\"you are a child\")\n",
    "elif 16<age<30:\n",
    "    print(\"you are in prime age\")\n",
    "elif 30<age<50:\n",
    "    print(\"you are retired\")\n",
    "else:\n",
    "    print(\"you are old\")    "
   ]
  },
  {
   "cell_type": "code",
   "execution_count": 33,
   "id": "404b0b8d",
   "metadata": {},
   "outputs": [
    {
     "name": "stdout",
     "output_type": "stream",
     "text": [
      "you are cute child\n"
     ]
    }
   ],
   "source": [
    "#nested conditonal statement\n",
    "age=int(input(\"enter your age\"))\n",
    "gender=input(\"enter your gender\")\n",
    "if age>20:\n",
    "    if gender==\"male\":\n",
    "        print(\"you are handsome\")\n",
    "    else:\n",
    "        print(\"you are beautiful\")\n",
    "else:\n",
    "    if gender==\"female\":\n",
    "        print(\"you are cute child\")\n",
    "    else:\n",
    "        print(\"you are naught boy\")\n",
    "    \n"
   ]
  },
  {
   "cell_type": "code",
   "execution_count": 35,
   "id": "c4604193",
   "metadata": {},
   "outputs": [
    {
     "name": "stdout",
     "output_type": "stream",
     "text": [
      "2024 is a leap year\n"
     ]
    }
   ],
   "source": [
    "#Practical example\n",
    "# Determine if a year is a leap year using nested condition statement\n",
    "year=int(input(\"Enter the year\"))\n",
    "if year%4==0:\n",
    "    if year%100==0:\n",
    "        if year%400==0:\n",
    "            print(year,\"is a leap year\")\n",
    "        else:\n",
    "            print(year,\"is not a leap year\")\n",
    "    else:\n",
    "        print(year,\"is a leap year\")\n",
    "else:\n",
    "    print(year,\"is not a leap year\")\n"
   ]
  },
  {
   "cell_type": "code",
   "execution_count": 37,
   "id": "19d4179b",
   "metadata": {},
   "outputs": [
    {
     "name": "stdout",
     "output_type": "stream",
     "text": [
      "5\n"
     ]
    }
   ],
   "source": [
    "#Assignment\n",
    "# simple calculator program\n",
    "num1=int(input(\"Enter the first number:\"))\n",
    "num2= int(input(\"Enter the second number:\"))\n",
    "operation= input(\"enter the operation you want to perform:\")\n",
    "\n",
    "if operation == \"sum\":\n",
    "    result=num1+num2\n",
    "    print(result)\n",
    "elif operation == \"diff\":\n",
    "    result=num1-num2\n",
    "    print(result)\n",
    "elif operation == \"multiply\":\n",
    "    result = num1*num2\n",
    "    print(result)\n",
    "else:\n",
    "    result = num1/num2\n",
    "    print(result)\n",
    "\n",
    "\n",
    "\n"
   ]
  },
  {
   "cell_type": "code",
   "execution_count": 46,
   "id": "24940427",
   "metadata": {},
   "outputs": [
    {
     "name": "stdout",
     "output_type": "stream",
     "text": [
      "the ticket is free for  2 years old\n"
     ]
    }
   ],
   "source": [
    "age=int(input(\"Enter your age\"))\n",
    "if age<5:\n",
    "    print(\"the ticket is free for \" ,age, \"years old\")\n",
    "else:\n",
    "    print(\"you should buy the ticket\")"
   ]
  },
  {
   "cell_type": "code",
   "execution_count": 3,
   "id": "74737de2",
   "metadata": {},
   "outputs": [
    {
     "name": "stdout",
     "output_type": "stream",
     "text": [
      "0\n",
      "1\n",
      "2\n",
      "3\n",
      "4\n"
     ]
    }
   ],
   "source": [
    "#Loop\n",
    "for i in range(5):\n",
    "    print(i)"
   ]
  },
  {
   "cell_type": "code",
   "execution_count": 4,
   "id": "851a2425",
   "metadata": {},
   "outputs": [
    {
     "name": "stdout",
     "output_type": "stream",
     "text": [
      "1\n",
      "2\n",
      "3\n",
      "4\n",
      "5\n"
     ]
    }
   ],
   "source": [
    "for i in range(1,6):\n",
    "    print(i)"
   ]
  },
  {
   "cell_type": "code",
   "execution_count": 8,
   "id": "691f3f56",
   "metadata": {},
   "outputs": [
    {
     "name": "stdout",
     "output_type": "stream",
     "text": [
      "10\n",
      "8\n",
      "6\n",
      "4\n",
      "2\n"
     ]
    }
   ],
   "source": [
    "for i in range(10,1,-2):\n",
    "    print(i)"
   ]
  },
  {
   "cell_type": "code",
   "execution_count": 11,
   "id": "37e7034d",
   "metadata": {},
   "outputs": [
    {
     "name": "stdout",
     "output_type": "stream",
     "text": [
      "K\n",
      "r\n",
      "i\n",
      "s\n",
      "h\n",
      " \n",
      "N\n",
      "a\n",
      "i\n",
      "k\n"
     ]
    }
   ],
   "source": [
    "#strings\n",
    "str=\"Krish Naik\"\n",
    "for i in str:\n",
    "    print(i)"
   ]
  },
  {
   "cell_type": "code",
   "execution_count": 13,
   "id": "50d774f8",
   "metadata": {},
   "outputs": [
    {
     "name": "stdout",
     "output_type": "stream",
     "text": [
      "0\n",
      "1\n",
      "2\n",
      "3\n",
      "4\n"
     ]
    }
   ],
   "source": [
    "#while\n",
    "count=0\n",
    "while count<5:\n",
    "    print(count)\n",
    "    count=count+1"
   ]
  },
  {
   "cell_type": "code",
   "execution_count": 14,
   "id": "77e92292",
   "metadata": {},
   "outputs": [
    {
     "name": "stdout",
     "output_type": "stream",
     "text": [
      "0\n"
     ]
    }
   ],
   "source": [
    "count=0\n",
    "while count%2==0:\n",
    "    print(count)\n",
    "    count = count+1"
   ]
  },
  {
   "cell_type": "code",
   "execution_count": 15,
   "id": "8fc9beef",
   "metadata": {},
   "outputs": [
    {
     "name": "stdout",
     "output_type": "stream",
     "text": [
      "0\n",
      "1\n",
      "2\n",
      "3\n",
      "4\n"
     ]
    }
   ],
   "source": [
    "#loop control statements\n",
    "#break\n",
    "#The break statement exsit the loop permaturely\n",
    "for i in range(10):\n",
    "    if i==5:\n",
    "        break\n",
    "    print(i)"
   ]
  },
  {
   "cell_type": "code",
   "execution_count": 16,
   "id": "152f66f0",
   "metadata": {},
   "outputs": [
    {
     "name": "stdout",
     "output_type": "stream",
     "text": [
      "1\n",
      "3\n",
      "5\n",
      "7\n",
      "9\n"
     ]
    }
   ],
   "source": [
    "# continue\n",
    "# The continue statement skips current iteration and continues with the next.\n",
    "for i in range(10):\n",
    "    if i%2==0:\n",
    "        continue\n",
    "    print(i)\n"
   ]
  },
  {
   "cell_type": "code",
   "execution_count": 17,
   "id": "789b1778",
   "metadata": {},
   "outputs": [
    {
     "name": "stdout",
     "output_type": "stream",
     "text": [
      "0\n",
      "1\n",
      "2\n",
      "the number is  3\n",
      "3\n",
      "4\n"
     ]
    }
   ],
   "source": [
    "#pass\n",
    "for i in range(5):\n",
    "    if i==3:\n",
    "        print(\"the number is \",i)\n",
    "        pass\n",
    "    print(i)"
   ]
  },
  {
   "cell_type": "code",
   "execution_count": 19,
   "id": "89526e68",
   "metadata": {},
   "outputs": [
    {
     "name": "stdout",
     "output_type": "stream",
     "text": [
      "the value is i :0 j:0\n",
      "completing the inner loop\n",
      "the value is i :0 j:1\n",
      "completing the inner loop\n",
      "the value is i :1 j:0\n",
      "completing the inner loop\n",
      "the value is i :1 j:1\n",
      "completing the inner loop\n",
      "the value is i :2 j:0\n",
      "completing the inner loop\n",
      "the value is i :2 j:1\n",
      "completing the inner loop\n"
     ]
    }
   ],
   "source": [
    "#nested loop \n",
    "## loop inside a loop\n",
    "for i in range(3):\n",
    "    for j in range(2):\n",
    "        print(f\"the value is i :{i} j:{j}\")\n",
    "        print(\"completing the inner loop\")\n",
    "\n"
   ]
  },
  {
   "cell_type": "code",
   "execution_count": 5,
   "id": "a992dba1",
   "metadata": {},
   "outputs": [
    {
     "name": "stdout",
     "output_type": "stream",
     "text": [
      "the sum of n natural number is 15\n"
     ]
    }
   ],
   "source": [
    "# Example: Calculate the sum of first N natural number using while and for loop\n",
    "n=int(input(\"Enter the value of n\"))\n",
    "sum=0\n",
    "count=1\n",
    "while count<=n:\n",
    "    sum=sum+count\n",
    "    count=count+1\n",
    "print(f\"the sum of n natural number is {sum}\")"
   ]
  },
  {
   "cell_type": "code",
   "execution_count": 8,
   "id": "80b35f94",
   "metadata": {},
   "outputs": [
    {
     "name": "stdout",
     "output_type": "stream",
     "text": [
      "55\n"
     ]
    }
   ],
   "source": [
    "# for loop \n",
    "n=int(input(\"Enter the value of n\"))\n",
    "sum=0\n",
    "for i in range(n):\n",
    "    sum=sum+i\n",
    "print(sum)"
   ]
  },
  {
   "cell_type": "code",
   "execution_count": 19,
   "id": "bd80ebaf",
   "metadata": {},
   "outputs": [
    {
     "name": "stdout",
     "output_type": "stream",
     "text": [
      "2\n",
      "3\n",
      "5\n",
      "7\n",
      "11\n",
      "13\n",
      "17\n",
      "19\n",
      "23\n",
      "29\n",
      "31\n",
      "37\n",
      "41\n",
      "43\n",
      "47\n",
      "53\n",
      "59\n",
      "61\n",
      "67\n",
      "71\n",
      "73\n",
      "79\n",
      "83\n",
      "89\n",
      "97\n"
     ]
    }
   ],
   "source": [
    "# displya prime number between 1 to 100\n",
    "for num in range(1,101):\n",
    "    if num>1:\n",
    "        for i in range(2,num):\n",
    "            if num%i==0:\n",
    "                break\n",
    "    \n",
    "        else:\n",
    "             print(num)\n"
   ]
  },
  {
   "cell_type": "code",
   "execution_count": 21,
   "id": "06a5d221",
   "metadata": {},
   "outputs": [
    {
     "name": "stdout",
     "output_type": "stream",
     "text": [
      "0\n",
      "1\n",
      "2\n",
      "3\n",
      "4\n",
      "5\n"
     ]
    }
   ],
   "source": [
    "for num in range(10):\n",
    "    if num==6:\n",
    "        break\n",
    "    else:\n",
    "        print(num)"
   ]
  },
  {
   "cell_type": "code",
   "execution_count": 27,
   "id": "f2144625",
   "metadata": {},
   "outputs": [
    {
     "name": "stdout",
     "output_type": "stream",
     "text": [
      "['jkrish', 1, 2, 3, 4]\n"
     ]
    }
   ],
   "source": [
    "names=[\"jkrish\",1,2,3,4]\n",
    "type(names)\n",
    "print(names)"
   ]
  },
  {
   "cell_type": "code",
   "execution_count": 43,
   "id": "e6b27659",
   "metadata": {},
   "outputs": [
    {
     "name": "stdout",
     "output_type": "stream",
     "text": [
      "apple\n"
     ]
    },
    {
     "data": {
      "text/plain": [
       "['apple', 'bananana', 'cherry', 'kiwi', 'grapes']"
      ]
     },
     "execution_count": 43,
     "metadata": {},
     "output_type": "execute_result"
    }
   ],
   "source": [
    "#accessing list items\n",
    "fruits=[\"apple\",\"bananana\",\"cherry\",\"kiwi\",\"grapes\"]\n",
    "print(fruits[0])\n",
    "fruits[0:5]\n",
    "\n"
   ]
  },
  {
   "cell_type": "code",
   "execution_count": 44,
   "id": "6db10010",
   "metadata": {},
   "outputs": [
    {
     "data": {
      "text/plain": [
       "['apple', 'bananana', 'cherry', 'kiwi', 'grapes']"
      ]
     },
     "execution_count": 44,
     "metadata": {},
     "output_type": "execute_result"
    }
   ],
   "source": [
    "#modifying the list elements\n",
    "fruits"
   ]
  },
  {
   "cell_type": "code",
   "execution_count": 45,
   "id": "3aa7a5cf",
   "metadata": {},
   "outputs": [],
   "source": [
    "fruits[0]=\"guava\""
   ]
  },
  {
   "cell_type": "code",
   "execution_count": 46,
   "id": "e12f05f1",
   "metadata": {},
   "outputs": [
    {
     "data": {
      "text/plain": [
       "['guava', 'bananana', 'cherry', 'kiwi', 'grapes']"
      ]
     },
     "execution_count": 46,
     "metadata": {},
     "output_type": "execute_result"
    }
   ],
   "source": [
    "fruits"
   ]
  },
  {
   "cell_type": "code",
   "execution_count": 53,
   "id": "c92075e5",
   "metadata": {},
   "outputs": [],
   "source": [
    "fruits[1:]=\"watermelon\""
   ]
  },
  {
   "cell_type": "code",
   "execution_count": 54,
   "id": "8a5a8cb6",
   "metadata": {},
   "outputs": [
    {
     "data": {
      "text/plain": [
       "['guava', 'w', 'a', 't', 'e', 'r', 'm', 'e', 'l', 'o', 'n']"
      ]
     },
     "execution_count": 54,
     "metadata": {},
     "output_type": "execute_result"
    }
   ],
   "source": [
    "fruits"
   ]
  },
  {
   "cell_type": "code",
   "execution_count": 55,
   "id": "2cd22bea",
   "metadata": {},
   "outputs": [],
   "source": [
    "\n",
    "fruits=[\"apple\",\"bananana\",\"cherry\",\"kiwi\",\"grapes\"]"
   ]
  },
  {
   "cell_type": "code",
   "execution_count": 57,
   "id": "2f0e597b",
   "metadata": {},
   "outputs": [],
   "source": [
    "fruits.append(\"orange\")"
   ]
  },
  {
   "cell_type": "code",
   "execution_count": 58,
   "id": "0fa306f9",
   "metadata": {},
   "outputs": [
    {
     "data": {
      "text/plain": [
       "['apple', 'bananana', 'cherry', 'kiwi', 'grapes', 'orange']"
      ]
     },
     "execution_count": 58,
     "metadata": {},
     "output_type": "execute_result"
    }
   ],
   "source": [
    "fruits"
   ]
  },
  {
   "cell_type": "code",
   "execution_count": 61,
   "id": "eaba747e",
   "metadata": {},
   "outputs": [],
   "source": [
    "fruits.insert(0,\"pom\")"
   ]
  },
  {
   "cell_type": "code",
   "execution_count": 62,
   "id": "91e665b6",
   "metadata": {},
   "outputs": [
    {
     "data": {
      "text/plain": [
       "['pom', 'apple', 'pom', 'bananana', 'cherry', 'kiwi', 'grapes', 'orange']"
      ]
     },
     "execution_count": 62,
     "metadata": {},
     "output_type": "execute_result"
    }
   ],
   "source": [
    "fruits"
   ]
  },
  {
   "cell_type": "code",
   "execution_count": 64,
   "id": "a390ae58",
   "metadata": {},
   "outputs": [
    {
     "name": "stdout",
     "output_type": "stream",
     "text": [
      "grapes\n",
      "['pom', 'apple', 'pom', 'bananana', 'cherry', 'kiwi']\n"
     ]
    }
   ],
   "source": [
    "poped_fruits=fruits.pop()\n",
    "print(poped_fruits)\n",
    "print(fruits)"
   ]
  },
  {
   "cell_type": "code",
   "execution_count": 68,
   "id": "3d4ecb2a",
   "metadata": {},
   "outputs": [
    {
     "data": {
      "text/plain": [
       "1"
      ]
     },
     "execution_count": 68,
     "metadata": {},
     "output_type": "execute_result"
    }
   ],
   "source": [
    "fruits.index(\"apple\")"
   ]
  },
  {
   "cell_type": "code",
   "execution_count": 70,
   "id": "31dee3ea",
   "metadata": {},
   "outputs": [
    {
     "data": {
      "text/plain": [
       "2"
      ]
     },
     "execution_count": 70,
     "metadata": {},
     "output_type": "execute_result"
    }
   ],
   "source": [
    "fruits.count(\"pom\")"
   ]
  },
  {
   "cell_type": "code",
   "execution_count": 71,
   "id": "3c1c0755",
   "metadata": {},
   "outputs": [
    {
     "data": {
      "text/plain": [
       "['pom', 'apple', 'pom', 'bananana', 'cherry', 'kiwi']"
      ]
     },
     "execution_count": 71,
     "metadata": {},
     "output_type": "execute_result"
    }
   ],
   "source": [
    "fruits"
   ]
  },
  {
   "cell_type": "code",
   "execution_count": 72,
   "id": "67aab068",
   "metadata": {},
   "outputs": [],
   "source": [
    "fruits.sort()"
   ]
  },
  {
   "cell_type": "code",
   "execution_count": 73,
   "id": "5a584a97",
   "metadata": {},
   "outputs": [
    {
     "data": {
      "text/plain": [
       "['apple', 'bananana', 'cherry', 'kiwi', 'pom', 'pom']"
      ]
     },
     "execution_count": 73,
     "metadata": {},
     "output_type": "execute_result"
    }
   ],
   "source": [
    "fruits"
   ]
  },
  {
   "cell_type": "code",
   "execution_count": 79,
   "id": "06219779",
   "metadata": {},
   "outputs": [
    {
     "name": "stdout",
     "output_type": "stream",
     "text": [
      "[3, 4, 5]\n",
      "[1, 2, 3, 4, 5]\n",
      "[1, 3, 5, 7, 9]\n",
      "[10, 9, 8, 7, 6, 5, 4, 3, 2, 1]\n"
     ]
    }
   ],
   "source": [
    "#slicing list\n",
    "numbers=[1,2,3,4,5,6,7,8,9,10]\n",
    "print(numbers[2:5])\n",
    "print(numbers[:5])\n",
    "print(numbers[::2])\n",
    "print(numbers[::-1])\n"
   ]
  },
  {
   "cell_type": "code",
   "execution_count": 80,
   "id": "4caa1f3f",
   "metadata": {},
   "outputs": [],
   "source": [
    "numbers.reverse()"
   ]
  },
  {
   "cell_type": "code",
   "execution_count": 81,
   "id": "5a1b9bd0",
   "metadata": {},
   "outputs": [
    {
     "name": "stdout",
     "output_type": "stream",
     "text": [
      "[10, 9, 8, 7, 6, 5, 4, 3, 2, 1]\n"
     ]
    }
   ],
   "source": [
    "print(numbers)"
   ]
  },
  {
   "cell_type": "code",
   "execution_count": 82,
   "id": "c620fe7e",
   "metadata": {},
   "outputs": [],
   "source": [
    "numbers.reverse()"
   ]
  },
  {
   "cell_type": "code",
   "execution_count": 83,
   "id": "ef97d4ea",
   "metadata": {},
   "outputs": [
    {
     "data": {
      "text/plain": [
       "[1, 2, 3, 4, 5, 6, 7, 8, 9, 10]"
      ]
     },
     "execution_count": 83,
     "metadata": {},
     "output_type": "execute_result"
    }
   ],
   "source": [
    "numbers"
   ]
  },
  {
   "cell_type": "code",
   "execution_count": 84,
   "id": "56638ca8",
   "metadata": {},
   "outputs": [
    {
     "data": {
      "text/plain": [
       "[10, 9, 8, 7, 6, 5, 4, 3, 2, 1]"
      ]
     },
     "execution_count": 84,
     "metadata": {},
     "output_type": "execute_result"
    }
   ],
   "source": [
    "numbers[::-1]"
   ]
  },
  {
   "cell_type": "code",
   "execution_count": 85,
   "id": "3cde2443",
   "metadata": {},
   "outputs": [
    {
     "data": {
      "text/plain": [
       "[1, 2, 3, 4, 5, 6, 7, 8, 9, 10]"
      ]
     },
     "execution_count": 85,
     "metadata": {},
     "output_type": "execute_result"
    }
   ],
   "source": [
    "numbers"
   ]
  },
  {
   "cell_type": "code",
   "execution_count": 86,
   "id": "89d258f8",
   "metadata": {},
   "outputs": [
    {
     "name": "stdout",
     "output_type": "stream",
     "text": [
      "1\n",
      "2\n",
      "3\n",
      "4\n",
      "5\n",
      "6\n",
      "7\n",
      "8\n",
      "9\n",
      "10\n"
     ]
    }
   ],
   "source": [
    "for num in numbers:\n",
    "    print(num)"
   ]
  },
  {
   "cell_type": "code",
   "execution_count": 92,
   "id": "5d8bf9cc",
   "metadata": {},
   "outputs": [
    {
     "name": "stdout",
     "output_type": "stream",
     "text": [
      "0 1\n",
      "1 2\n",
      "2 3\n",
      "3 4\n",
      "4 5\n",
      "5 6\n",
      "6 7\n",
      "7 8\n",
      "8 9\n",
      "9 10\n"
     ]
    }
   ],
   "source": [
    "#iterating with index\n",
    "for index,num in enumerate(numbers):\n",
    "    print(index,num)"
   ]
  },
  {
   "cell_type": "code",
   "execution_count": null,
   "id": "7a41662d",
   "metadata": {},
   "outputs": [],
   "source": [
    "print(\"helo\")"
   ]
  },
  {
   "cell_type": "code",
   "execution_count": null,
   "id": "8942e6e4",
   "metadata": {},
   "outputs": [],
   "source": []
  },
  {
   "cell_type": "code",
   "execution_count": 1,
   "id": "27826504",
   "metadata": {},
   "outputs": [
    {
     "name": "stdout",
     "output_type": "stream",
     "text": [
      "hello\n"
     ]
    }
   ],
   "source": [
    "print(\"hello\")"
   ]
  },
  {
   "cell_type": "code",
   "execution_count": 3,
   "id": "ad7a27f5",
   "metadata": {},
   "outputs": [
    {
     "data": {
      "text/plain": [
       "[0, 1, 4, 9, 16, 25, 36, 49, 64, 81]"
      ]
     },
     "execution_count": 3,
     "metadata": {},
     "output_type": "execute_result"
    }
   ],
   "source": [
    "[x**2 for x in range(10)]"
   ]
  },
  {
   "cell_type": "code",
   "execution_count": 5,
   "id": "88190f32",
   "metadata": {},
   "outputs": [
    {
     "data": {
      "text/plain": [
       "[1, 4, 9, 16, 25, 36, 49, 64, 81]"
      ]
     },
     "execution_count": 5,
     "metadata": {},
     "output_type": "execute_result"
    }
   ],
   "source": [
    "square= [num**2 for num in range(10)]\n",
    "square"
   ]
  },
  {
   "cell_type": "code",
   "execution_count": 7,
   "id": "bdc79450",
   "metadata": {},
   "outputs": [
    {
     "name": "stdout",
     "output_type": "stream",
     "text": [
      "[0, 2, 4, 6, 8]\n"
     ]
    }
   ],
   "source": [
    "lst=[]\n",
    "for i in  range(10):\n",
    "    if i%2==0:\n",
    "        lst.append(i)\n",
    "print(lst)\n"
   ]
  },
  {
   "cell_type": "code",
   "execution_count": 11,
   "id": "4b278b2b",
   "metadata": {},
   "outputs": [
    {
     "data": {
      "text/plain": [
       "[0, 2, 4, 6, 8]"
      ]
     },
     "execution_count": 11,
     "metadata": {},
     "output_type": "execute_result"
    }
   ],
   "source": [
    "even_numbers =[num for num in range(10) if num%2==0]\n",
    "even_numbers"
   ]
  },
  {
   "cell_type": "code",
   "execution_count": 12,
   "id": "62943e30",
   "metadata": {},
   "outputs": [
    {
     "name": "stdout",
     "output_type": "stream",
     "text": [
      "[[1, 'a'], [1, 'b'], [1, 'c'], [1, 'd'], [2, 'a'], [2, 'b'], [2, 'c'], [2, 'd'], [3, 'a'], [3, 'b'], [3, 'c'], [3, 'd'], [4, 'a'], [4, 'b'], [4, 'c'], [4, 'd']]\n"
     ]
    }
   ],
   "source": [
    "lst1=[1,2,3,4]\n",
    "lst2=['a','b','c','d']\n",
    "pair=[[i,j] for i in lst1 for j in lst2]\n",
    "print(pair)"
   ]
  },
  {
   "cell_type": "code",
   "execution_count": 13,
   "id": "e348c3de",
   "metadata": {},
   "outputs": [],
   "source": [
    "to_do_list=[\"Buy Groceries\",\"Clean the house\", \"Paybills\"]\n",
    "to_do_list.append(\"walk\")"
   ]
  },
  {
   "cell_type": "code",
   "execution_count": 14,
   "id": "bfd45a14",
   "metadata": {},
   "outputs": [
    {
     "data": {
      "text/plain": [
       "['Buy Groceries', 'Clean the house', 'Paybills', 'walk']"
      ]
     },
     "execution_count": 14,
     "metadata": {},
     "output_type": "execute_result"
    }
   ],
   "source": [
    "to_do_list"
   ]
  },
  {
   "cell_type": "code",
   "execution_count": 15,
   "id": "9ec051da",
   "metadata": {},
   "outputs": [],
   "source": [
    "to_do_list.insert(1,\"eat\")"
   ]
  },
  {
   "cell_type": "code",
   "execution_count": 16,
   "id": "ed20e6eb",
   "metadata": {},
   "outputs": [
    {
     "data": {
      "text/plain": [
       "['Buy Groceries', 'eat', 'Clean the house', 'Paybills', 'walk']"
      ]
     },
     "execution_count": 16,
     "metadata": {},
     "output_type": "execute_result"
    }
   ],
   "source": [
    "to_do_list"
   ]
  },
  {
   "cell_type": "code",
   "execution_count": 1,
   "id": "8368dc5f",
   "metadata": {},
   "outputs": [
    {
     "ename": "NameError",
     "evalue": "name 'to_do_list' is not defined",
     "output_type": "error",
     "traceback": [
      "\u001b[0;31m---------------------------------------------------------------------------\u001b[0m",
      "\u001b[0;31mNameError\u001b[0m                                 Traceback (most recent call last)",
      "Cell \u001b[0;32mIn[1], line 1\u001b[0m\n\u001b[0;32m----> 1\u001b[0m \u001b[38;5;28;01mif\u001b[39;00m \u001b[38;5;124m\"\u001b[39m\u001b[38;5;124mwalk\u001b[39m\u001b[38;5;124m\"\u001b[39m \u001b[38;5;129;01min\u001b[39;00m to_do_list:\n\u001b[1;32m      2\u001b[0m     \u001b[38;5;28mprint\u001b[39m(\u001b[38;5;124m\"\u001b[39m\u001b[38;5;124mdont forget to walk\u001b[39m\u001b[38;5;124m\"\u001b[39m)\n\u001b[1;32m      3\u001b[0m \u001b[38;5;28mprint\u001b[39m(\u001b[38;5;124m\"\u001b[39m\u001b[38;5;124mto do list remaing\u001b[39m\u001b[38;5;124m\"\u001b[39m)\n",
      "\u001b[0;31mNameError\u001b[0m: name 'to_do_list' is not defined"
     ]
    }
   ],
   "source": [
    "if \"walk\" in to_do_list:\n",
    "    print(\"dont forget to walk\")\n",
    "print(\"to do list remaing\")\n",
    "for task in to_do_list:\n",
    "    print(f\"-{task}\")"
   ]
  },
  {
   "cell_type": "code",
   "execution_count": 1,
   "id": "ab1c196b",
   "metadata": {},
   "outputs": [
    {
     "data": {
      "text/plain": [
       "(1, 2, 3, 4, 5, 6)"
      ]
     },
     "execution_count": 1,
     "metadata": {},
     "output_type": "execute_result"
    }
   ],
   "source": [
    "#tuple\n",
    "numbers=tuple([1,2,3,4,5,6])\n",
    "numbers"
   ]
  },
  {
   "cell_type": "code",
   "execution_count": 6,
   "id": "5d7ecac9",
   "metadata": {},
   "outputs": [
    {
     "data": {
      "text/plain": [
       "(1, 2, 3, 4, 5, 6)"
      ]
     },
     "execution_count": 6,
     "metadata": {},
     "output_type": "execute_result"
    }
   ],
   "source": [
    "#Aceesing tuple\n",
    "numbers"
   ]
  },
  {
   "cell_type": "code",
   "execution_count": 7,
   "id": "28d9e017",
   "metadata": {},
   "outputs": [
    {
     "data": {
      "text/plain": [
       "1"
      ]
     },
     "execution_count": 7,
     "metadata": {},
     "output_type": "execute_result"
    }
   ],
   "source": [
    "numbers[0]"
   ]
  },
  {
   "cell_type": "code",
   "execution_count": 8,
   "id": "f517da3e",
   "metadata": {},
   "outputs": [
    {
     "data": {
      "text/plain": [
       "(6, 5, 4, 3, 2, 1)"
      ]
     },
     "execution_count": 8,
     "metadata": {},
     "output_type": "execute_result"
    }
   ],
   "source": [
    "numbers[::-1]"
   ]
  },
  {
   "cell_type": "code",
   "execution_count": 9,
   "id": "6cb0b457",
   "metadata": {},
   "outputs": [
    {
     "name": "stdout",
     "output_type": "stream",
     "text": [
      "[1, 2, 3, 4, 5]\n"
     ]
    }
   ],
   "source": [
    "#immutable nature of Tuples\n",
    "lst=[1,2,3,4,5]\n",
    "print(lst)"
   ]
  },
  {
   "cell_type": "code",
   "execution_count": 10,
   "id": "5440b7e2",
   "metadata": {},
   "outputs": [],
   "source": [
    "lst[0]=\"Krish\""
   ]
  },
  {
   "cell_type": "code",
   "execution_count": 11,
   "id": "1db3f5ef",
   "metadata": {},
   "outputs": [
    {
     "name": "stdout",
     "output_type": "stream",
     "text": [
      "['Krish', 2, 3, 4, 5]\n"
     ]
    }
   ],
   "source": [
    "print(lst)"
   ]
  },
  {
   "cell_type": "code",
   "execution_count": 12,
   "id": "7ac1d27f",
   "metadata": {},
   "outputs": [
    {
     "name": "stdout",
     "output_type": "stream",
     "text": [
      "(1, 2, 3, 4, 5)\n"
     ]
    }
   ],
   "source": [
    "tuple=(1,2,3,4,5)\n",
    "print(tuple)"
   ]
  },
  {
   "cell_type": "code",
   "execution_count": 18,
   "id": "64b51ac1",
   "metadata": {},
   "outputs": [
    {
     "name": "stdout",
     "output_type": "stream",
     "text": [
      "1\n"
     ]
    }
   ],
   "source": [
    "print(numbers.count(2))"
   ]
  },
  {
   "cell_type": "code",
   "execution_count": 19,
   "id": "b0bfab1f",
   "metadata": {},
   "outputs": [
    {
     "name": "stdout",
     "output_type": "stream",
     "text": [
      "3\n"
     ]
    }
   ],
   "source": [
    "print(numbers.index(4))"
   ]
  },
  {
   "cell_type": "code",
   "execution_count": 21,
   "id": "124fc1cd",
   "metadata": {},
   "outputs": [
    {
     "name": "stdout",
     "output_type": "stream",
     "text": [
      "(1, 'hello', 3.14)\n"
     ]
    }
   ],
   "source": [
    "#packing and unpacking tuple\n",
    "packed_tuples=1,\"hello\",3.14\n",
    "print(packed_tuples)"
   ]
  },
  {
   "cell_type": "code",
   "execution_count": 22,
   "id": "555d54ca",
   "metadata": {},
   "outputs": [
    {
     "name": "stdout",
     "output_type": "stream",
     "text": [
      "1\n",
      "hello\n",
      "3.14\n"
     ]
    }
   ],
   "source": [
    "# unpacking a tuple\n",
    "a,b,c=packed_tuples\n",
    "print(a)\n",
    "print(b)\n",
    "print(c)"
   ]
  },
  {
   "cell_type": "code",
   "execution_count": 26,
   "id": "4a6c8e90",
   "metadata": {},
   "outputs": [
    {
     "data": {
      "text/plain": [
       "[9, 8, 7]"
      ]
     },
     "execution_count": 26,
     "metadata": {},
     "output_type": "execute_result"
    }
   ],
   "source": [
    "lst=[[1,2,3],[4,5,6],[7,8,9]]\n",
    "lst[2][::-1]"
   ]
  },
  {
   "cell_type": "code",
   "execution_count": 27,
   "id": "4ebc43fe",
   "metadata": {},
   "outputs": [
    {
     "data": {
      "text/plain": [
       "3"
      ]
     },
     "execution_count": 27,
     "metadata": {},
     "output_type": "execute_result"
    }
   ],
   "source": [
    "tuple=((1,2,3),(4,5,6),(7,8,9))\n",
    "tuple[0][2]"
   ]
  },
  {
   "cell_type": "code",
   "execution_count": 28,
   "id": "4c0dd37b",
   "metadata": {},
   "outputs": [
    {
     "name": "stdout",
     "output_type": "stream",
     "text": [
      "{'name': 'ram', 'grade': 24, 'age': 35}\n"
     ]
    }
   ],
   "source": [
    "#dictionary\n",
    "student={\"name\":\"ram\",\"grade\":24,\"age\":35}\n",
    "print(student)"
   ]
  },
  {
   "cell_type": "code",
   "execution_count": 29,
   "id": "0868041d",
   "metadata": {},
   "outputs": [
    {
     "name": "stdout",
     "output_type": "stream",
     "text": [
      "ram\n"
     ]
    }
   ],
   "source": [
    "print(student[\"name\"])"
   ]
  },
  {
   "cell_type": "code",
   "execution_count": 30,
   "id": "29304f5a",
   "metadata": {},
   "outputs": [
    {
     "name": "stdout",
     "output_type": "stream",
     "text": [
      "name\n",
      "grade\n",
      "age\n"
     ]
    }
   ],
   "source": [
    "#iterating over keys\n",
    "for keys in student.keys():\n",
    "    print(keys)"
   ]
  },
  {
   "cell_type": "code",
   "execution_count": 31,
   "id": "c5aa9527",
   "metadata": {},
   "outputs": [
    {
     "name": "stdout",
     "output_type": "stream",
     "text": [
      "ram\n",
      "24\n",
      "35\n"
     ]
    }
   ],
   "source": [
    "for values in student.values():\n",
    "    print(values)"
   ]
  },
  {
   "cell_type": "code",
   "execution_count": 32,
   "id": "234d1692",
   "metadata": {},
   "outputs": [
    {
     "name": "stdout",
     "output_type": "stream",
     "text": [
      "name:ram\n",
      "grade:24\n",
      "age:35\n"
     ]
    }
   ],
   "source": [
    "for key,values in student.items():\n",
    "    print(f\"{key}:{values}\")"
   ]
  },
  {
   "cell_type": "code",
   "execution_count": 38,
   "id": "b78cd171",
   "metadata": {},
   "outputs": [],
   "source": [
    "students={\n",
    "    \"student1\":{\n",
    "        \"phy\":25,\n",
    "        \n",
    "        \"chem\":30\n",
    "    },\n",
    "    \"student2\":{\"phy\":22,\"chem\":30}\n",
    "}"
   ]
  },
  {
   "cell_type": "code",
   "execution_count": 40,
   "id": "bb67c931",
   "metadata": {},
   "outputs": [
    {
     "name": "stdout",
     "output_type": "stream",
     "text": [
      "25\n",
      "dict_items([('student1', {'phy': 25, 'chem': 30}), ('student2', {'phy': 22, 'chem': 30})])\n"
     ]
    }
   ],
   "source": [
    "print(students[\"student1\"][\"phy\"])\n",
    "print(students.items())"
   ]
  },
  {
   "cell_type": "code",
   "execution_count": 46,
   "id": "445fcfe9",
   "metadata": {},
   "outputs": [
    {
     "name": "stdout",
     "output_type": "stream",
     "text": [
      "student1:{'phy': 25, 'chem': 30}\n",
      "phy:25\n",
      "chem:30\n",
      "student2:{'phy': 22, 'chem': 30}\n",
      "phy:22\n",
      "chem:30\n"
     ]
    }
   ],
   "source": [
    "#iterating over nested dictionaries\n",
    "for student_id,student_info in students.items():\n",
    "    print(f\"{student_id}:{student_info}\")\n",
    "    for key, value in student_info.items():\n",
    "        print(f\"{key}:{value}\")\n",
    "    "
   ]
  },
  {
   "cell_type": "code",
   "execution_count": 48,
   "id": "b2d41ea9",
   "metadata": {},
   "outputs": [
    {
     "name": "stdout",
     "output_type": "stream",
     "text": [
      "{1: 1, 2: 2, 3: 3, 4: 4}\n"
     ]
    }
   ],
   "source": [
    "#use a dictionary to cunt the frequency of elememts in list\n",
    "numbers=[1,2,2,3,3,3,4,4,4,4]\n",
    "frequency={}\n",
    "for number in numbers:\n",
    "    if number in frequency:\n",
    "        frequency[number]+=1\n",
    "    else:\n",
    "        frequency[number]=1\n",
    "print(frequency)"
   ]
  },
  {
   "cell_type": "code",
   "execution_count": 51,
   "id": "d97b063e",
   "metadata": {},
   "outputs": [],
   "source": [
    "\n",
    "def oddeven(num):\n",
    "    if num%2==0:\n",
    "        print(f\"{num} is even\")\n",
    "    else:\n",
    "        print(f\"{num} is odd\")\n"
   ]
  },
  {
   "cell_type": "code",
   "execution_count": 53,
   "id": "25414295",
   "metadata": {},
   "outputs": [
    {
     "name": "stdout",
     "output_type": "stream",
     "text": [
      "13 is odd\n"
     ]
    }
   ],
   "source": [
    "oddeven(13)"
   ]
  },
  {
   "cell_type": "code",
   "execution_count": 58,
   "id": "77767759",
   "metadata": {},
   "outputs": [
    {
     "name": "stdout",
     "output_type": "stream",
     "text": [
      "hello Sitij\n"
     ]
    }
   ],
   "source": [
    "def greet(name=\"Guest\"):\n",
    "    print(f\"hello {name}\")\n",
    "\n",
    "greet(\"Sitij\")"
   ]
  },
  {
   "cell_type": "code",
   "execution_count": 59,
   "id": "4bda5ca9",
   "metadata": {},
   "outputs": [
    {
     "name": "stdout",
     "output_type": "stream",
     "text": [
      "1\n",
      "2\n",
      "xyz\n"
     ]
    }
   ],
   "source": [
    "def print_value(*args):\n",
    "    for value in args:\n",
    "        print(value)\n",
    "\n",
    "print_value(1,2,\"xyz\")\n"
   ]
  },
  {
   "cell_type": "code",
   "execution_count": 62,
   "id": "77f0f07f",
   "metadata": {},
   "outputs": [
    {
     "name": "stdout",
     "output_type": "stream",
     "text": [
      "1 positional argument\n",
      "2 positional argument\n",
      "3 positional argument\n",
      "4 positional argument\n",
      "name:sitij\n",
      "age:24\n"
     ]
    }
   ],
   "source": [
    "def print_details(*args,**kwargs):\n",
    "    for value in args:\n",
    "\n",
    "        print(f\"{value} positional argument\")\n",
    "    for key,value in kwargs.items():\n",
    "        print(f\"{key}:{value}\")\n",
    "\n",
    "print_details(1,2,3,4,name=\"sitij\",age=24)"
   ]
  },
  {
   "cell_type": "code",
   "execution_count": 66,
   "id": "6c8d4642",
   "metadata": {},
   "outputs": [
    {
     "data": {
      "text/plain": [
       "(6, 2)"
      ]
     },
     "execution_count": 66,
     "metadata": {},
     "output_type": "execute_result"
    }
   ],
   "source": [
    "def multiply(a,b):\n",
    "   return(a*b,a) \n",
    "multiply(2,3)"
   ]
  },
  {
   "cell_type": "code",
   "execution_count": 71,
   "id": "893c581b",
   "metadata": {},
   "outputs": [],
   "source": [
    "# temperature conversion\n",
    "def temperature_converter(temp,unit):\n",
    "    if unit==\"C\":\n",
    "        return temp*9/5 \n",
    "    elif unit ==\"F\":\n",
    "        return (temp-32)*5/9\n",
    "    else:None\n",
    "temperature_converter(10,'')"
   ]
  },
  {
   "cell_type": "code",
   "execution_count": 72,
   "id": "1dc2a131",
   "metadata": {},
   "outputs": [],
   "source": [
    "def checkpwd(password):\n",
    "    if len(password)<8:\n",
    "        return False\n",
    "    if not any(char.isdigit() for char in password):\n",
    "        return False\n",
    "    if not any(char.islower() for char in password):\n",
    "        return False\n",
    "    if not any(char.isupper() for char in password):\n",
    "        return False\n",
    "    if not any(char in '!@#$%^' for char in password):\n",
    "        return False\n",
    "    else:\n",
    "        return True"
   ]
  },
  {
   "cell_type": "code",
   "execution_count": 75,
   "id": "996da873",
   "metadata": {},
   "outputs": [
    {
     "data": {
      "text/plain": [
       "True"
      ]
     },
     "execution_count": 75,
     "metadata": {},
     "output_type": "execute_result"
    }
   ],
   "source": [
    "checkpwd(\"hHelo@s123\")"
   ]
  },
  {
   "cell_type": "code",
   "execution_count": 1,
   "id": "b7b77dec",
   "metadata": {},
   "outputs": [
    {
     "name": "stdout",
     "output_type": "stream",
     "text": [
      "the total cost is 5.8999999999999995\n"
     ]
    }
   ],
   "source": [
    "#Calculate the total cost of items in a shopping cart\n",
    "# Example cart data\n",
    "cart=[\n",
    "    {'name':'Apple','price':0.5,'quantity':4},\n",
    "    {'name':'Banana','price':0.3,'quantity':6},\n",
    "    {'name':'Orange','price':0.7,'quantity':3}\n",
    "\n",
    "]\n",
    "def calculate_total_cost(cart):\n",
    "    total_cost=0\n",
    "    for item in cart:\n",
    "        total_cost+=item['price']* item ['quantity']\n",
    "    return total_cost\n",
    "\n",
    "total_cost=calculate_total_cost(cart)\n",
    "print(f\"the total cost is {total_cost}\")\n",
    "\n"
   ]
  },
  {
   "cell_type": "code",
   "execution_count": 5,
   "id": "3661e123",
   "metadata": {},
   "outputs": [
    {
     "name": "stdout",
     "output_type": "stream",
     "text": [
      "True\n",
      "False\n"
     ]
    }
   ],
   "source": [
    "def is_palindrome(str):\n",
    "    str=str.lower().replace(\" \",\"\")\n",
    "    return str==str[::-1]\n",
    "print(is_palindrome(\"A nan a\"))\n",
    "print(is_palindrome(\"hello\"))"
   ]
  },
  {
   "cell_type": "code",
   "execution_count": 8,
   "id": "5d7da01d",
   "metadata": {},
   "outputs": [
    {
     "name": "stdout",
     "output_type": "stream",
     "text": [
      "6\n"
     ]
    }
   ],
   "source": [
    "def factorial(n):\n",
    "    if n==0:\n",
    "        return(1)\n",
    "    else:\n",
    "        return (n*factorial(n-1))\n",
    "print(factorial(3))"
   ]
  },
  {
   "cell_type": "code",
   "execution_count": 10,
   "id": "1566f76f",
   "metadata": {},
   "outputs": [
    {
     "data": {
      "text/plain": [
       "5"
      ]
     },
     "execution_count": 10,
     "metadata": {},
     "output_type": "execute_result"
    }
   ],
   "source": [
    "#lamda function\n",
    "sum=lambda a,b:a+b\n",
    "sum(2,3)"
   ]
  },
  {
   "cell_type": "code",
   "execution_count": 11,
   "id": "4ef5999e",
   "metadata": {},
   "outputs": [
    {
     "data": {
      "text/plain": [
       "True"
      ]
     },
     "execution_count": 11,
     "metadata": {},
     "output_type": "execute_result"
    }
   ],
   "source": [
    "even=lambda a:a%2==0\n",
    "even(12)"
   ]
  },
  {
   "cell_type": "code",
   "execution_count": 12,
   "id": "416c5be2",
   "metadata": {},
   "outputs": [
    {
     "data": {
      "text/plain": [
       "7"
      ]
     },
     "execution_count": 12,
     "metadata": {},
     "output_type": "execute_result"
    }
   ],
   "source": [
    "sum=lambda x,y,z:x+y+z\n",
    "sum(2,3,2)"
   ]
  },
  {
   "cell_type": "code",
   "execution_count": 16,
   "id": "40d1cb50",
   "metadata": {},
   "outputs": [
    {
     "data": {
      "text/plain": [
       "4"
      ]
     },
     "execution_count": 16,
     "metadata": {},
     "output_type": "execute_result"
    }
   ],
   "source": [
    "# map()\n",
    "numbers=[1,2,3,4,5,6]\n",
    "def square(numbers):\n",
    "    return numbers**2\n",
    "square(2)"
   ]
  },
  {
   "cell_type": "code",
   "execution_count": 18,
   "id": "d686e29a",
   "metadata": {},
   "outputs": [
    {
     "data": {
      "text/plain": [
       "[1, 4, 9, 16, 25, 36]"
      ]
     },
     "execution_count": 18,
     "metadata": {},
     "output_type": "execute_result"
    }
   ],
   "source": [
    "list(map(lambda x:x**2,numbers))"
   ]
  },
  {
   "cell_type": "code",
   "execution_count": 3,
   "id": "bd66b331",
   "metadata": {},
   "outputs": [
    {
     "data": {
      "text/plain": [
       "[1, 4, 9, 16, 25]"
      ]
     },
     "execution_count": 3,
     "metadata": {},
     "output_type": "execute_result"
    }
   ],
   "source": [
    "#map\n",
    "def square(x):\n",
    "    return x**2\n",
    "numbers=[1,2,3,4,5]\n",
    "\n",
    "list(map(square,numbers))"
   ]
  },
  {
   "cell_type": "code",
   "execution_count": 5,
   "id": "44362eeb",
   "metadata": {},
   "outputs": [
    {
     "name": "stdout",
     "output_type": "stream",
     "text": [
      "[3, 5, 7]\n"
     ]
    }
   ],
   "source": [
    "numbers1=[1,2,3]\n",
    "numbers2=[2,3,4]\n",
    "added_numbers= list(map(lambda x,y:x+y , numbers1, numbers2))\n",
    "print(added_numbers)\n"
   ]
  },
  {
   "cell_type": "code",
   "execution_count": 6,
   "id": "d39b0bab",
   "metadata": {},
   "outputs": [],
   "source": [
    "#filter\n",
    "def even(num):\n",
    "    if num%2==0:\n",
    "        return True\n"
   ]
  },
  {
   "cell_type": "code",
   "execution_count": 7,
   "id": "f51a1971",
   "metadata": {},
   "outputs": [
    {
     "data": {
      "text/plain": [
       "True"
      ]
     },
     "execution_count": 7,
     "metadata": {},
     "output_type": "execute_result"
    }
   ],
   "source": [
    "even(24)"
   ]
  },
  {
   "cell_type": "code",
   "execution_count": 11,
   "id": "644ecc44",
   "metadata": {},
   "outputs": [
    {
     "data": {
      "text/plain": [
       "[2, 4, 6, 8, 10]"
      ]
     },
     "execution_count": 11,
     "metadata": {},
     "output_type": "execute_result"
    }
   ],
   "source": [
    "lst=[1,2,3,4,5,6,7,8,9,10]\n",
    "list(filter(lambda x: x%2==0,lst))"
   ]
  },
  {
   "cell_type": "code",
   "execution_count": 12,
   "id": "4fdd5988",
   "metadata": {},
   "outputs": [
    {
     "name": "stdout",
     "output_type": "stream",
     "text": [
      "[6, 8]\n"
     ]
    }
   ],
   "source": [
    "#filter with multiple condition and lambda function\n",
    "numbers=[1,2,3,4,5,6,7,8,9]\n",
    "even_and_greater=list(filter(lambda x:x>5 and x%2==0,numbers))\n",
    "print(even_and_greater)"
   ]
  },
  {
   "cell_type": "code",
   "execution_count": 14,
   "id": "35ec851c",
   "metadata": {},
   "outputs": [
    {
     "data": {
      "text/plain": [
       "[{'name': 'ram', 'age': 32}]"
      ]
     },
     "execution_count": 14,
     "metadata": {},
     "output_type": "execute_result"
    }
   ],
   "source": [
    "#filter()\n",
    "people=[{'name':'ram','age':32},\n",
    "        {'name':'shyam','age':22}]\n",
    "\n",
    "def age_greater_than_25(peoples):\n",
    "    return peoples['age']>25\n",
    "list(filter(age_greater_than_25,people))\n",
    "         "
   ]
  },
  {
   "cell_type": "code",
   "execution_count": 3,
   "id": "17c8b495",
   "metadata": {},
   "outputs": [
    {
     "data": {
      "text/plain": [
       "5.196152422706632"
      ]
     },
     "execution_count": 3,
     "metadata": {},
     "output_type": "execute_result"
    }
   ],
   "source": [
    "#modules\n",
    "import math\n",
    "math.sqrt(27)"
   ]
  },
  {
   "cell_type": "code",
   "execution_count": 4,
   "id": "61d338fd",
   "metadata": {},
   "outputs": [
    {
     "name": "stdout",
     "output_type": "stream",
     "text": [
      "4.0\n"
     ]
    }
   ],
   "source": [
    "from math import sqrt,pi\n",
    "print(sqrt(16))"
   ]
  },
  {
   "cell_type": "code",
   "execution_count": 5,
   "id": "cf7b9b86",
   "metadata": {},
   "outputs": [],
   "source": [
    "import numpy as np"
   ]
  },
  {
   "cell_type": "code",
   "execution_count": 7,
   "id": "1b60a6b0",
   "metadata": {},
   "outputs": [
    {
     "name": "stdout",
     "output_type": "stream",
     "text": [
      "3.141592653589793\n"
     ]
    }
   ],
   "source": [
    "from math import *\n",
    "print(pi)"
   ]
  },
  {
   "cell_type": "code",
   "execution_count": 11,
   "id": "c088408b",
   "metadata": {},
   "outputs": [
    {
     "name": "stdout",
     "output_type": "stream",
     "text": [
      "10\n"
     ]
    }
   ],
   "source": [
    "import random\n",
    "print(random.randint(1,10))"
   ]
  },
  {
   "cell_type": "code",
   "execution_count": 13,
   "id": "add971a2",
   "metadata": {},
   "outputs": [
    {
     "name": "stdout",
     "output_type": "stream",
     "text": [
      "['name', 'age']\n",
      "['krish', '32']\n"
     ]
    }
   ],
   "source": [
    "#csv\n",
    "import csv\n",
    "\n",
    "with open('example.csv',mode='w',newline='') as file:\n",
    "    writer=csv.writer(file)\n",
    "    writer.writerow(['name','age'])\n",
    "    writer.writerow(['krish',32])\n",
    "\n",
    "with open('example.csv',mode='r') as file:\n",
    "    reader=csv.reader(file)\n",
    "    for row in reader:\n",
    "        print(row)"
   ]
  },
  {
   "cell_type": "code",
   "execution_count": 14,
   "id": "fc1c670a",
   "metadata": {},
   "outputs": [
    {
     "name": "stdout",
     "output_type": "stream",
     "text": [
      "123\n"
     ]
    }
   ],
   "source": [
    "#reg ex\n",
    "import re\n",
    "pattern=r'\\d+'\n",
    "text= 'THere are 123 apples'\n",
    "match=re.search(pattern,text)\n",
    "print(match.group())"
   ]
  },
  {
   "cell_type": "code",
   "execution_count": null,
   "id": "3388cfca",
   "metadata": {},
   "outputs": [],
   "source": [
    "# file"
   ]
  }
 ],
 "metadata": {
  "kernelspec": {
   "display_name": "Python 3 (ipykernel)",
   "language": "python",
   "name": "python3"
  },
  "language_info": {
   "codemirror_mode": {
    "name": "ipython",
    "version": 3
   },
   "file_extension": ".py",
   "mimetype": "text/x-python",
   "name": "python",
   "nbconvert_exporter": "python",
   "pygments_lexer": "ipython3",
   "version": "3.12.4"
  }
 },
 "nbformat": 4,
 "nbformat_minor": 5
}
