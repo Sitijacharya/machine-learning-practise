{
 "cells": [
  {
   "cell_type": "code",
   "execution_count": 1,
   "id": "b97b0254-16af-4ad2-9ee2-d190138bb06c",
   "metadata": {},
   "outputs": [
    {
     "name": "stdout",
     "output_type": "stream",
     "text": [
      "Hello World\n"
     ]
    }
   ],
   "source": [
    "print(\"Hello World\")"
   ]
  },
  {
   "cell_type": "code",
   "execution_count": 9,
   "id": "f50edb91-4b6e-43df-9ce3-1c1465a098ed",
   "metadata": {},
   "outputs": [
    {
     "name": "stdout",
     "output_type": "stream",
     "text": [
      "<class 'str'>\n"
     ]
    }
   ],
   "source": [
    "a=(\"2.89\")\n",
    "print(type(a))"
   ]
  },
  {
   "cell_type": "code",
   "execution_count": 8,
   "id": "2ccc2b51-745e-45b7-a8a8-6efb8c9eed5d",
   "metadata": {},
   "outputs": [
    {
     "name": "stdout",
     "output_type": "stream",
     "text": [
      "2.89\n",
      "<class 'NoneType'>\n"
     ]
    }
   ],
   "source": [
    "print(2.89)\n",
    "print(type(a))"
   ]
  },
  {
   "cell_type": "code",
   "execution_count": 10,
   "id": "30b18541-293b-4d7a-a23e-7277ce5ced4d",
   "metadata": {},
   "outputs": [
    {
     "name": "stdout",
     "output_type": "stream",
     "text": [
      " HEllo guys \n",
      "k xa khabr\n"
     ]
    }
   ],
   "source": [
    "print(\"\"\" HEllo guys \n",
    "k xa khabr\"\"\")"
   ]
  },
  {
   "cell_type": "code",
   "execution_count": 11,
   "id": "0b8cbde2-710b-45de-87bc-b942d2fa893e",
   "metadata": {},
   "outputs": [
    {
     "data": {
      "text/plain": [
       "str"
      ]
     },
     "execution_count": 11,
     "metadata": {},
     "output_type": "execute_result"
    }
   ],
   "source": [
    "type(\"sitij\")"
   ]
  },
  {
   "cell_type": "code",
   "execution_count": 12,
   "id": "c7ceee6a-b8de-46b7-b0f3-44b33e22f741",
   "metadata": {},
   "outputs": [
    {
     "data": {
      "text/plain": [
       "int"
      ]
     },
     "execution_count": 12,
     "metadata": {},
     "output_type": "execute_result"
    }
   ],
   "source": [
    "type(100)"
   ]
  },
  {
   "cell_type": "code",
   "execution_count": 13,
   "id": "a162afd5-20f8-4dd7-b11c-30adb2fc5ffd",
   "metadata": {},
   "outputs": [
    {
     "data": {
      "text/plain": [
       "8"
      ]
     },
     "execution_count": 13,
     "metadata": {},
     "output_type": "execute_result"
    }
   ],
   "source": [
    "2+6"
   ]
  },
  {
   "cell_type": "code",
   "execution_count": 14,
   "id": "1df3576d-a670-4ed6-b890-377e7a3553b3",
   "metadata": {},
   "outputs": [
    {
     "name": "stdout",
     "output_type": "stream",
     "text": [
      "8\n"
     ]
    }
   ],
   "source": [
    "print(2+6)"
   ]
  },
  {
   "cell_type": "code",
   "execution_count": 16,
   "id": "c1e45ad7-759d-4dac-b8ea-f23f2ba9c631",
   "metadata": {},
   "outputs": [
    {
     "name": "stdout",
     "output_type": "stream",
     "text": [
      "I want to study 49 hours in a week\n"
     ]
    }
   ],
   "source": [
    "print(f\"I want to study {7*7} hours in a week\")"
   ]
  },
  {
   "cell_type": "code",
   "execution_count": 17,
   "id": "a8d4623c-94a5-4288-88d0-c8caec9ef5b8",
   "metadata": {},
   "outputs": [
    {
     "name": "stdout",
     "output_type": "stream",
     "text": [
      "5\n"
     ]
    }
   ],
   "source": [
    "age=5\n",
    "print(age)"
   ]
  },
  {
   "cell_type": "code",
   "execution_count": 18,
   "id": "7deaef15-1c98-42eb-ba6b-e7f5ba6403e1",
   "metadata": {},
   "outputs": [
    {
     "name": "stdout",
     "output_type": "stream",
     "text": [
      "24\n"
     ]
    }
   ],
   "source": [
    "age=24\n",
    "print(age)"
   ]
  },
  {
   "cell_type": "code",
   "execution_count": 20,
   "id": "6a153520-5e10-4b63-b174-1158b255ba34",
   "metadata": {},
   "outputs": [
    {
     "name": "stdout",
     "output_type": "stream",
     "text": [
      "My age is 24 \n"
     ]
    }
   ],
   "source": [
    "print(f\"My age is {age} \")"
   ]
  },
  {
   "cell_type": "code",
   "execution_count": 23,
   "id": "1c6463b0-a046-4818-94c5-2f49d3c22fce",
   "metadata": {},
   "outputs": [
    {
     "ename": "ModuleNotFoundError",
     "evalue": "No module named 'helper_functions'",
     "output_type": "error",
     "traceback": [
      "\u001b[0;31m---------------------------------------------------------------------------\u001b[0m",
      "\u001b[0;31mModuleNotFoundError\u001b[0m                       Traceback (most recent call last)",
      "Cell \u001b[0;32mIn[23], line 1\u001b[0m\n\u001b[0;32m----> 1\u001b[0m \u001b[38;5;28;01mfrom\u001b[39;00m \u001b[38;5;21;01mhelper_functions\u001b[39;00m \u001b[38;5;28;01mimport\u001b[39;00m print_llm_response\n",
      "\u001b[0;31mModuleNotFoundError\u001b[0m: No module named 'helper_functions'"
     ]
    }
   ],
   "source": [
    "from helper_functions import print_llm_response"
   ]
  },
  {
   "cell_type": "code",
   "execution_count": 24,
   "id": "7070d33f-b225-4b2d-b6fa-a41208796956",
   "metadata": {},
   "outputs": [
    {
     "data": {
      "text/plain": [
       "11"
      ]
     },
     "execution_count": 24,
     "metadata": {},
     "output_type": "execute_result"
    }
   ],
   "source": [
    "len(\"hello world\")"
   ]
  },
  {
   "cell_type": "code",
   "execution_count": 25,
   "id": "3a9f10c0-a532-4bcc-999f-aa1779971adc",
   "metadata": {},
   "outputs": [
    {
     "data": {
      "text/plain": [
       "42"
      ]
     },
     "execution_count": 25,
     "metadata": {},
     "output_type": "execute_result"
    }
   ],
   "source": [
    "round(42.17)"
   ]
  },
  {
   "cell_type": "code",
   "execution_count": 26,
   "id": "fd381a58-5eb2-41d9-ac60-fa93b97c100a",
   "metadata": {},
   "outputs": [
    {
     "ename": "NameError",
     "evalue": "name 'str_len' is not defined",
     "output_type": "error",
     "traceback": [
      "\u001b[0;31m---------------------------------------------------------------------------\u001b[0m",
      "\u001b[0;31mNameError\u001b[0m                                 Traceback (most recent call last)",
      "Cell \u001b[0;32mIn[26], line 1\u001b[0m\n\u001b[0;32m----> 1\u001b[0m str_len(\u001b[38;5;124m\"\u001b[39m\u001b[38;5;124mhello world\u001b[39m\u001b[38;5;124m\"\u001b[39m)\n",
      "\u001b[0;31mNameError\u001b[0m: name 'str_len' is not defined"
     ]
    }
   ],
   "source": [
    "str_len(\"hello world\")"
   ]
  },
  {
   "cell_type": "code",
   "execution_count": 28,
   "id": "1453b4f2-f3e2-431b-9a83-43d561d3a11f",
   "metadata": {},
   "outputs": [
    {
     "name": "stdout",
     "output_type": "stream",
     "text": [
      "you cannot vote because your age is 12 \n"
     ]
    }
   ],
   "source": [
    "age=12\n",
    "if age>18:\n",
    "    print(f\"you can vote because your age is {age} \")\n",
    "else:\n",
    "    print(f\"you cannot vote because your age is {age} \")"
   ]
  },
  {
   "cell_type": "code",
   "execution_count": 33,
   "id": "6a976a45-88ae-4130-ac16-1a09550d274c",
   "metadata": {},
   "outputs": [
    {
     "name": "stdout",
     "output_type": "stream",
     "text": [
      "Correct indentation\n",
      "this will print\n",
      "k xa\n"
     ]
    }
   ],
   "source": [
    "#Code example of indentation\n",
    "if True:\n",
    "    print(\"Correct indentation\")\n",
    "    if False:\n",
    "        print(\"THis wont print\")\n",
    "    print(\"this will print\")\n",
    "print(\"k xa\")"
   ]
  },
  {
   "cell_type": "code",
   "execution_count": 38,
   "id": "0db4bd9c-f5d8-4e17-a9e0-90d2d40e0dd8",
   "metadata": {},
   "outputs": [
    {
     "name": "stdout",
     "output_type": "stream",
     "text": [
      "ram\n",
      "32\n"
     ]
    }
   ],
   "source": [
    "age=32\n",
    "name=\"ram\"\n",
    "print(name)\n",
    "print(age)"
   ]
  },
  {
   "cell_type": "code",
   "execution_count": 43,
   "id": "05ee8ed0-3d74-439a-a5c9-f5312d1ff205",
   "metadata": {},
   "outputs": [
    {
     "name": "stdout",
     "output_type": "stream",
     "text": [
      "age 32\n"
     ]
    }
   ],
   "source": [
    "print(\"age\",age)"
   ]
  },
  {
   "cell_type": "code",
   "execution_count": 41,
   "id": "f5ebb46e-0eda-4d34-9fff-69bf6ec0cfbe",
   "metadata": {},
   "outputs": [
    {
     "name": "stdout",
     "output_type": "stream",
     "text": [
      "age: 32\n"
     ]
    }
   ],
   "source": [
    "print(f\"age: {age}\")"
   ]
  },
  {
   "cell_type": "code",
   "execution_count": 44,
   "id": "1c01e7aa-9b39-4086-b272-0c1d5102a496",
   "metadata": {},
   "outputs": [
    {
     "data": {
      "text/plain": [
       "str"
      ]
     },
     "execution_count": 44,
     "metadata": {},
     "output_type": "execute_result"
    }
   ],
   "source": [
    "type(name)"
   ]
  },
  {
   "cell_type": "code",
   "execution_count": 45,
   "id": "6f1ee8bb-b031-4ef3-9bb4-edd480378df7",
   "metadata": {},
   "outputs": [
    {
     "data": {
      "text/plain": [
       "int"
      ]
     },
     "execution_count": 45,
     "metadata": {},
     "output_type": "execute_result"
    }
   ],
   "source": [
    "type(age)"
   ]
  },
  {
   "cell_type": "code",
   "execution_count": 46,
   "id": "044eb2f8-1f94-44b6-b5a3-8cfec58ed5cd",
   "metadata": {},
   "outputs": [
    {
     "name": "stdout",
     "output_type": "stream",
     "text": [
      "32\n",
      "<class 'str'>\n"
     ]
    }
   ],
   "source": [
    "age_str=str(age)\n",
    "print(age_str)\n",
    "print(type(age_str))"
   ]
  },
  {
   "cell_type": "code",
   "execution_count": 53,
   "id": "921f7a3b-64b6-48bc-9e23-d6f8b3f54f7f",
   "metadata": {},
   "outputs": [
    {
     "name": "stdout",
     "output_type": "stream",
     "text": [
      "25\n",
      "<class 'str'>\n",
      "25\n",
      "<class 'str'>\n"
     ]
    }
   ],
   "source": [
    "age=\"25\"\n",
    "print(age)\n",
    "print(type(age))\n",
    "print(int(age))\n",
    "print(type(age))"
   ]
  },
  {
   "cell_type": "code",
   "execution_count": 51,
   "id": "ae53679f-bdfe-4ae2-9f50-3dd1ca5ac667",
   "metadata": {},
   "outputs": [
    {
     "data": {
      "text/plain": [
       "str"
      ]
     },
     "execution_count": 51,
     "metadata": {},
     "output_type": "execute_result"
    }
   ],
   "source": [
    "type(age)"
   ]
  },
  {
   "cell_type": "code",
   "execution_count": 52,
   "id": "f9613f38-e667-46b0-9862-48c176de1919",
   "metadata": {},
   "outputs": [
    {
     "name": "stdout",
     "output_type": "stream",
     "text": [
      "25\n"
     ]
    }
   ],
   "source": [
    "print(int(age))"
   ]
  },
  {
   "cell_type": "code",
   "execution_count": 55,
   "id": "386f4460-623a-43c2-a49a-b269199f73b0",
   "metadata": {},
   "outputs": [
    {
     "name": "stdout",
     "output_type": "stream",
     "text": [
      "10 <class 'int'>\n",
      "HEllo <class 'str'>\n"
     ]
    }
   ],
   "source": [
    "var=10\n",
    "print(var,type(var))\n",
    "var=\"HEllo\"\n",
    "print(var,type(var))"
   ]
  },
  {
   "cell_type": "code",
   "execution_count": 63,
   "id": "2c4af19c-17fc-4696-b5b8-cf9a16c97e39",
   "metadata": {},
   "outputs": [
    {
     "name": "stdout",
     "output_type": "stream",
     "text": [
      "What is the age 10\n"
     ]
    },
    {
     "name": "stdout",
     "output_type": "stream",
     "text": [
      "the age: 10\n"
     ]
    }
   ],
   "source": [
    "age=input(\"What is the age\")\n",
    "print(\"the age:\",age)"
   ]
  },
  {
   "cell_type": "code",
   "execution_count": 69,
   "id": "170ddfbc-de44-4bb9-bc8c-c7b74ccb31b1",
   "metadata": {},
   "outputs": [
    {
     "name": "stdout",
     "output_type": "stream",
     "text": [
      "enter the first number 12\n",
      "enter the second number 1\n"
     ]
    },
    {
     "name": "stdout",
     "output_type": "stream",
     "text": [
      "sum: 13.0\n",
      "mul: 12.0\n",
      "quo: 12.0\n",
      "diff: 11.0\n"
     ]
    }
   ],
   "source": [
    "# Caclulator using python add, sub ,mul ,div\n",
    "num1=float(input(\"enter the first number\"))\n",
    "num2= float(input(\"enter the second number\"))\n",
    "mul=num1*num2\n",
    "sum=num1+num2\n",
    "difference=num1-num2\n",
    "quotient=num1/num2\n",
    "print(\"sum:\",sum)\n",
    "print(\"mul:\",mul)\n",
    "print(\"quo:\",quotient)\n",
    "print(\"diff:\",difference)"
   ]
  },
  {
   "cell_type": "code",
   "execution_count": 1,
   "id": "0446963b-d36c-4203-92e7-c10144c10b82",
   "metadata": {},
   "outputs": [
    {
     "name": "stdout",
     "output_type": "stream",
     "text": [
      "hello world\n"
     ]
    }
   ],
   "source": [
    "print(\"hello world\")"
   ]
  },
  {
   "cell_type": "code",
   "execution_count": 3,
   "id": "fe12aa61",
   "metadata": {},
   "outputs": [
    {
     "data": {
      "text/plain": [
       "int"
      ]
     },
     "execution_count": 3,
     "metadata": {},
     "output_type": "execute_result"
    }
   ],
   "source": [
    "#integer example\n",
    "age=35\n",
    "type(age)"
   ]
  },
  {
   "cell_type": "code",
   "execution_count": 4,
   "id": "57c0a5e2",
   "metadata": {},
   "outputs": [
    {
     "name": "stdout",
     "output_type": "stream",
     "text": [
      "<class 'float'>\n"
     ]
    }
   ],
   "source": [
    "width=32.33\n",
    "print(type(width))\n"
   ]
  },
  {
   "cell_type": "code",
   "execution_count": 5,
   "id": "dfeaeb1f",
   "metadata": {},
   "outputs": [
    {
     "data": {
      "text/plain": [
       "bool"
      ]
     },
     "execution_count": 5,
     "metadata": {},
     "output_type": "execute_result"
    }
   ],
   "source": [
    "tf=True\n",
    "type(tf)"
   ]
  },
  {
   "cell_type": "code",
   "execution_count": 6,
   "id": "e22e12de",
   "metadata": {},
   "outputs": [
    {
     "data": {
      "text/plain": [
       "False"
      ]
     },
     "execution_count": 6,
     "metadata": {},
     "output_type": "execute_result"
    }
   ],
   "source": [
    "bool()"
   ]
  },
  {
   "cell_type": "code",
   "execution_count": 7,
   "id": "cf1e6317",
   "metadata": {},
   "outputs": [
    {
     "data": {
      "text/plain": [
       "bool"
      ]
     },
     "execution_count": 7,
     "metadata": {},
     "output_type": "execute_result"
    }
   ],
   "source": [
    "a=10\n",
    "b=20\n",
    "type(a==b)"
   ]
  },
  {
   "cell_type": "code",
   "execution_count": 12,
   "id": "64cf65cc",
   "metadata": {},
   "outputs": [
    {
     "name": "stdout",
     "output_type": "stream",
     "text": [
      "hello10\n"
     ]
    }
   ],
   "source": [
    "result=\"hello\"+str(10)\n",
    "print(result)"
   ]
  },
  {
   "cell_type": "code",
   "execution_count": 16,
   "id": "ef5009a6",
   "metadata": {},
   "outputs": [
    {
     "name": "stdout",
     "output_type": "stream",
     "text": [
      "<class 'int'>\n",
      "<class 'str'>\n"
     ]
    }
   ],
   "source": [
    "age=10\n",
    "print(type(age))\n",
    "str(age)\n",
    "print(type(str(age)))"
   ]
  },
  {
   "cell_type": "code",
   "execution_count": 17,
   "id": "edd107b5",
   "metadata": {},
   "outputs": [
    {
     "name": "stdout",
     "output_type": "stream",
     "text": [
      "15\n"
     ]
    }
   ],
   "source": [
    "a=5\n",
    "b=10\n",
    "sum=a+b\n",
    "print(sum)"
   ]
  },
  {
   "cell_type": "code",
   "execution_count": 23,
   "id": "1f94c87a",
   "metadata": {},
   "outputs": [
    {
     "data": {
      "text/plain": [
       "False"
      ]
     },
     "execution_count": 23,
     "metadata": {},
     "output_type": "execute_result"
    }
   ],
   "source": [
    "a=int(123)\n",
    "b=float(123)\n",
    "a==b\n",
    "type(a)==type(b)"
   ]
  },
  {
   "cell_type": "code",
   "execution_count": 19,
   "id": "f4a0b25a",
   "metadata": {},
   "outputs": [
    {
     "name": "stdout",
     "output_type": "stream",
     "text": [
      "True\n"
     ]
    }
   ],
   "source": [
    "print(a!=b)"
   ]
  },
  {
   "cell_type": "code",
   "execution_count": 24,
   "id": "a1f89d43",
   "metadata": {},
   "outputs": [
    {
     "name": "stdout",
     "output_type": "stream",
     "text": [
      "you are in prime age\n"
     ]
    }
   ],
   "source": [
    "# if statement\n",
    "age=float(input(\"enter your age\"))\n",
    "if age<15:\n",
    "    print(\"you are a child\")\n",
    "elif 16<age<30:\n",
    "    print(\"you are in prime age\")\n",
    "elif 30<age<50:\n",
    "    print(\"you are retired\")\n",
    "else:\n",
    "    print(\"you are old\")    "
   ]
  },
  {
   "cell_type": "code",
   "execution_count": 33,
   "id": "404b0b8d",
   "metadata": {},
   "outputs": [
    {
     "name": "stdout",
     "output_type": "stream",
     "text": [
      "you are cute child\n"
     ]
    }
   ],
   "source": [
    "#nested conditonal statement\n",
    "age=int(input(\"enter your age\"))\n",
    "gender=input(\"enter your gender\")\n",
    "if age>20:\n",
    "    if gender==\"male\":\n",
    "        print(\"you are handsome\")\n",
    "    else:\n",
    "        print(\"you are beautiful\")\n",
    "else:\n",
    "    if gender==\"female\":\n",
    "        print(\"you are cute child\")\n",
    "    else:\n",
    "        print(\"you are naught boy\")\n",
    "    \n"
   ]
  },
  {
   "cell_type": "code",
   "execution_count": 35,
   "id": "c4604193",
   "metadata": {},
   "outputs": [
    {
     "name": "stdout",
     "output_type": "stream",
     "text": [
      "2024 is a leap year\n"
     ]
    }
   ],
   "source": [
    "#Practical example\n",
    "# Determine if a year is a leap year using nested condition statement\n",
    "year=int(input(\"Enter the year\"))\n",
    "if year%4==0:\n",
    "    if year%100==0:\n",
    "        if year%400==0:\n",
    "            print(year,\"is a leap year\")\n",
    "        else:\n",
    "            print(year,\"is not a leap year\")\n",
    "    else:\n",
    "        print(year,\"is a leap year\")\n",
    "else:\n",
    "    print(year,\"is not a leap year\")\n"
   ]
  },
  {
   "cell_type": "code",
   "execution_count": 37,
   "id": "19d4179b",
   "metadata": {},
   "outputs": [
    {
     "name": "stdout",
     "output_type": "stream",
     "text": [
      "5\n"
     ]
    }
   ],
   "source": [
    "#Assignment\n",
    "# simple calculator program\n",
    "num1=int(input(\"Enter the first number:\"))\n",
    "num2= int(input(\"Enter the second number:\"))\n",
    "operation= input(\"enter the operation you want to perform:\")\n",
    "\n",
    "if operation == \"sum\":\n",
    "    result=num1+num2\n",
    "    print(result)\n",
    "elif operation == \"diff\":\n",
    "    result=num1-num2\n",
    "    print(result)\n",
    "elif operation == \"multiply\":\n",
    "    result = num1*num2\n",
    "    print(result)\n",
    "else:\n",
    "    result = num1/num2\n",
    "    print(result)\n",
    "\n",
    "\n",
    "\n"
   ]
  },
  {
   "cell_type": "code",
   "execution_count": 46,
   "id": "24940427",
   "metadata": {},
   "outputs": [
    {
     "name": "stdout",
     "output_type": "stream",
     "text": [
      "the ticket is free for  2 years old\n"
     ]
    }
   ],
   "source": [
    "age=int(input(\"Enter your age\"))\n",
    "if age<5:\n",
    "    print(\"the ticket is free for \" ,age, \"years old\")\n",
    "else:\n",
    "    print(\"you should buy the ticket\")"
   ]
  },
  {
   "cell_type": "code",
   "execution_count": 3,
   "id": "74737de2",
   "metadata": {},
   "outputs": [
    {
     "name": "stdout",
     "output_type": "stream",
     "text": [
      "0\n",
      "1\n",
      "2\n",
      "3\n",
      "4\n"
     ]
    }
   ],
   "source": [
    "#Loop\n",
    "for i in range(5):\n",
    "    print(i)"
   ]
  },
  {
   "cell_type": "code",
   "execution_count": 4,
   "id": "851a2425",
   "metadata": {},
   "outputs": [
    {
     "name": "stdout",
     "output_type": "stream",
     "text": [
      "1\n",
      "2\n",
      "3\n",
      "4\n",
      "5\n"
     ]
    }
   ],
   "source": [
    "for i in range(1,6):\n",
    "    print(i)"
   ]
  },
  {
   "cell_type": "code",
   "execution_count": 8,
   "id": "691f3f56",
   "metadata": {},
   "outputs": [
    {
     "name": "stdout",
     "output_type": "stream",
     "text": [
      "10\n",
      "8\n",
      "6\n",
      "4\n",
      "2\n"
     ]
    }
   ],
   "source": [
    "for i in range(10,1,-2):\n",
    "    print(i)"
   ]
  },
  {
   "cell_type": "code",
   "execution_count": 11,
   "id": "37e7034d",
   "metadata": {},
   "outputs": [
    {
     "name": "stdout",
     "output_type": "stream",
     "text": [
      "K\n",
      "r\n",
      "i\n",
      "s\n",
      "h\n",
      " \n",
      "N\n",
      "a\n",
      "i\n",
      "k\n"
     ]
    }
   ],
   "source": [
    "#strings\n",
    "str=\"Krish Naik\"\n",
    "for i in str:\n",
    "    print(i)"
   ]
  },
  {
   "cell_type": "code",
   "execution_count": 13,
   "id": "50d774f8",
   "metadata": {},
   "outputs": [
    {
     "name": "stdout",
     "output_type": "stream",
     "text": [
      "0\n",
      "1\n",
      "2\n",
      "3\n",
      "4\n"
     ]
    }
   ],
   "source": [
    "#while\n",
    "count=0\n",
    "while count<5:\n",
    "    print(count)\n",
    "    count=count+1"
   ]
  },
  {
   "cell_type": "code",
   "execution_count": 14,
   "id": "77e92292",
   "metadata": {},
   "outputs": [
    {
     "name": "stdout",
     "output_type": "stream",
     "text": [
      "0\n"
     ]
    }
   ],
   "source": [
    "count=0\n",
    "while count%2==0:\n",
    "    print(count)\n",
    "    count = count+1"
   ]
  },
  {
   "cell_type": "code",
   "execution_count": 15,
   "id": "8fc9beef",
   "metadata": {},
   "outputs": [
    {
     "name": "stdout",
     "output_type": "stream",
     "text": [
      "0\n",
      "1\n",
      "2\n",
      "3\n",
      "4\n"
     ]
    }
   ],
   "source": [
    "#loop control statements\n",
    "#break\n",
    "#The break statement exsit the loop permaturely\n",
    "for i in range(10):\n",
    "    if i==5:\n",
    "        break\n",
    "    print(i)"
   ]
  },
  {
   "cell_type": "code",
   "execution_count": 16,
   "id": "152f66f0",
   "metadata": {},
   "outputs": [
    {
     "name": "stdout",
     "output_type": "stream",
     "text": [
      "1\n",
      "3\n",
      "5\n",
      "7\n",
      "9\n"
     ]
    }
   ],
   "source": [
    "# continue\n",
    "# The continue statement skips current iteration and continues with the next.\n",
    "for i in range(10):\n",
    "    if i%2==0:\n",
    "        continue\n",
    "    print(i)\n"
   ]
  },
  {
   "cell_type": "code",
   "execution_count": 17,
   "id": "789b1778",
   "metadata": {},
   "outputs": [
    {
     "name": "stdout",
     "output_type": "stream",
     "text": [
      "0\n",
      "1\n",
      "2\n",
      "the number is  3\n",
      "3\n",
      "4\n"
     ]
    }
   ],
   "source": [
    "#pass\n",
    "for i in range(5):\n",
    "    if i==3:\n",
    "        print(\"the number is \",i)\n",
    "        pass\n",
    "    print(i)"
   ]
  },
  {
   "cell_type": "code",
   "execution_count": 19,
   "id": "89526e68",
   "metadata": {},
   "outputs": [
    {
     "name": "stdout",
     "output_type": "stream",
     "text": [
      "the value is i :0 j:0\n",
      "completing the inner loop\n",
      "the value is i :0 j:1\n",
      "completing the inner loop\n",
      "the value is i :1 j:0\n",
      "completing the inner loop\n",
      "the value is i :1 j:1\n",
      "completing the inner loop\n",
      "the value is i :2 j:0\n",
      "completing the inner loop\n",
      "the value is i :2 j:1\n",
      "completing the inner loop\n"
     ]
    }
   ],
   "source": [
    "#nested loop \n",
    "## loop inside a loop\n",
    "for i in range(3):\n",
    "    for j in range(2):\n",
    "        print(f\"the value is i :{i} j:{j}\")\n",
    "        print(\"completing the inner loop\")\n",
    "\n"
   ]
  },
  {
   "cell_type": "code",
   "execution_count": null,
   "id": "a992dba1",
   "metadata": {},
   "outputs": [],
   "source": [
    "#exception"
   ]
  }
 ],
 "metadata": {
  "kernelspec": {
   "display_name": "Python 3 (ipykernel)",
   "language": "python",
   "name": "python3"
  },
  "language_info": {
   "codemirror_mode": {
    "name": "ipython",
    "version": 3
   },
   "file_extension": ".py",
   "mimetype": "text/x-python",
   "name": "python",
   "nbconvert_exporter": "python",
   "pygments_lexer": "ipython3",
   "version": "3.12.4"
  }
 },
 "nbformat": 4,
 "nbformat_minor": 5
}
