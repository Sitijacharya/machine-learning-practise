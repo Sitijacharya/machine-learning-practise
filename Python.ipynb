{
 "cells": [
  {
   "cell_type": "code",
   "execution_count": 1,
   "id": "b97b0254-16af-4ad2-9ee2-d190138bb06c",
   "metadata": {},
   "outputs": [
    {
     "name": "stdout",
     "output_type": "stream",
     "text": [
      "Hello World\n"
     ]
    }
   ],
   "source": [
    "print(\"Hello World\")"
   ]
  },
  {
   "cell_type": "code",
   "execution_count": 9,
   "id": "f50edb91-4b6e-43df-9ce3-1c1465a098ed",
   "metadata": {},
   "outputs": [
    {
     "name": "stdout",
     "output_type": "stream",
     "text": [
      "<class 'str'>\n"
     ]
    }
   ],
   "source": [
    "a=(\"2.89\")\n",
    "print(type(a))"
   ]
  },
  {
   "cell_type": "code",
   "execution_count": 8,
   "id": "2ccc2b51-745e-45b7-a8a8-6efb8c9eed5d",
   "metadata": {},
   "outputs": [
    {
     "name": "stdout",
     "output_type": "stream",
     "text": [
      "2.89\n",
      "<class 'NoneType'>\n"
     ]
    }
   ],
   "source": [
    "print(2.89)\n",
    "print(type(a))"
   ]
  },
  {
   "cell_type": "code",
   "execution_count": 10,
   "id": "30b18541-293b-4d7a-a23e-7277ce5ced4d",
   "metadata": {},
   "outputs": [
    {
     "name": "stdout",
     "output_type": "stream",
     "text": [
      " HEllo guys \n",
      "k xa khabr\n"
     ]
    }
   ],
   "source": [
    "print(\"\"\" HEllo guys \n",
    "k xa khabr\"\"\")"
   ]
  },
  {
   "cell_type": "code",
   "execution_count": 11,
   "id": "0b8cbde2-710b-45de-87bc-b942d2fa893e",
   "metadata": {},
   "outputs": [
    {
     "data": {
      "text/plain": [
       "str"
      ]
     },
     "execution_count": 11,
     "metadata": {},
     "output_type": "execute_result"
    }
   ],
   "source": [
    "type(\"sitij\")"
   ]
  },
  {
   "cell_type": "code",
   "execution_count": 12,
   "id": "c7ceee6a-b8de-46b7-b0f3-44b33e22f741",
   "metadata": {},
   "outputs": [
    {
     "data": {
      "text/plain": [
       "int"
      ]
     },
     "execution_count": 12,
     "metadata": {},
     "output_type": "execute_result"
    }
   ],
   "source": [
    "type(100)"
   ]
  },
  {
   "cell_type": "code",
   "execution_count": 13,
   "id": "a162afd5-20f8-4dd7-b11c-30adb2fc5ffd",
   "metadata": {},
   "outputs": [
    {
     "data": {
      "text/plain": [
       "8"
      ]
     },
     "execution_count": 13,
     "metadata": {},
     "output_type": "execute_result"
    }
   ],
   "source": [
    "2+6"
   ]
  },
  {
   "cell_type": "code",
   "execution_count": 14,
   "id": "1df3576d-a670-4ed6-b890-377e7a3553b3",
   "metadata": {},
   "outputs": [
    {
     "name": "stdout",
     "output_type": "stream",
     "text": [
      "8\n"
     ]
    }
   ],
   "source": [
    "print(2+6)"
   ]
  },
  {
   "cell_type": "code",
   "execution_count": 16,
   "id": "c1e45ad7-759d-4dac-b8ea-f23f2ba9c631",
   "metadata": {},
   "outputs": [
    {
     "name": "stdout",
     "output_type": "stream",
     "text": [
      "I want to study 49 hours in a week\n"
     ]
    }
   ],
   "source": [
    "print(f\"I want to study {7*7} hours in a week\")"
   ]
  },
  {
   "cell_type": "code",
   "execution_count": 17,
   "id": "a8d4623c-94a5-4288-88d0-c8caec9ef5b8",
   "metadata": {},
   "outputs": [
    {
     "name": "stdout",
     "output_type": "stream",
     "text": [
      "5\n"
     ]
    }
   ],
   "source": [
    "age=5\n",
    "print(age)"
   ]
  },
  {
   "cell_type": "code",
   "execution_count": 18,
   "id": "7deaef15-1c98-42eb-ba6b-e7f5ba6403e1",
   "metadata": {},
   "outputs": [
    {
     "name": "stdout",
     "output_type": "stream",
     "text": [
      "24\n"
     ]
    }
   ],
   "source": [
    "age=24\n",
    "print(age)"
   ]
  },
  {
   "cell_type": "code",
   "execution_count": 20,
   "id": "6a153520-5e10-4b63-b174-1158b255ba34",
   "metadata": {},
   "outputs": [
    {
     "name": "stdout",
     "output_type": "stream",
     "text": [
      "My age is 24 \n"
     ]
    }
   ],
   "source": [
    "print(f\"My age is {age} \")"
   ]
  },
  {
   "cell_type": "code",
   "execution_count": 23,
   "id": "1c6463b0-a046-4818-94c5-2f49d3c22fce",
   "metadata": {},
   "outputs": [
    {
     "ename": "ModuleNotFoundError",
     "evalue": "No module named 'helper_functions'",
     "output_type": "error",
     "traceback": [
      "\u001b[0;31m---------------------------------------------------------------------------\u001b[0m",
      "\u001b[0;31mModuleNotFoundError\u001b[0m                       Traceback (most recent call last)",
      "Cell \u001b[0;32mIn[23], line 1\u001b[0m\n\u001b[0;32m----> 1\u001b[0m \u001b[38;5;28;01mfrom\u001b[39;00m \u001b[38;5;21;01mhelper_functions\u001b[39;00m \u001b[38;5;28;01mimport\u001b[39;00m print_llm_response\n",
      "\u001b[0;31mModuleNotFoundError\u001b[0m: No module named 'helper_functions'"
     ]
    }
   ],
   "source": [
    "from helper_functions import print_llm_response"
   ]
  },
  {
   "cell_type": "code",
   "execution_count": 24,
   "id": "7070d33f-b225-4b2d-b6fa-a41208796956",
   "metadata": {},
   "outputs": [
    {
     "data": {
      "text/plain": [
       "11"
      ]
     },
     "execution_count": 24,
     "metadata": {},
     "output_type": "execute_result"
    }
   ],
   "source": [
    "len(\"hello world\")"
   ]
  },
  {
   "cell_type": "code",
   "execution_count": 25,
   "id": "3a9f10c0-a532-4bcc-999f-aa1779971adc",
   "metadata": {},
   "outputs": [
    {
     "data": {
      "text/plain": [
       "42"
      ]
     },
     "execution_count": 25,
     "metadata": {},
     "output_type": "execute_result"
    }
   ],
   "source": [
    "round(42.17)"
   ]
  },
  {
   "cell_type": "code",
   "execution_count": 26,
   "id": "fd381a58-5eb2-41d9-ac60-fa93b97c100a",
   "metadata": {},
   "outputs": [
    {
     "ename": "NameError",
     "evalue": "name 'str_len' is not defined",
     "output_type": "error",
     "traceback": [
      "\u001b[0;31m---------------------------------------------------------------------------\u001b[0m",
      "\u001b[0;31mNameError\u001b[0m                                 Traceback (most recent call last)",
      "Cell \u001b[0;32mIn[26], line 1\u001b[0m\n\u001b[0;32m----> 1\u001b[0m str_len(\u001b[38;5;124m\"\u001b[39m\u001b[38;5;124mhello world\u001b[39m\u001b[38;5;124m\"\u001b[39m)\n",
      "\u001b[0;31mNameError\u001b[0m: name 'str_len' is not defined"
     ]
    }
   ],
   "source": [
    "str_len(\"hello world\")"
   ]
  },
  {
   "cell_type": "code",
   "execution_count": 28,
   "id": "1453b4f2-f3e2-431b-9a83-43d561d3a11f",
   "metadata": {},
   "outputs": [
    {
     "name": "stdout",
     "output_type": "stream",
     "text": [
      "you cannot vote because your age is 12 \n"
     ]
    }
   ],
   "source": [
    "age=12\n",
    "if age>18:\n",
    "    print(f\"you can vote because your age is {age} \")\n",
    "else:\n",
    "    print(f\"you cannot vote because your age is {age} \")"
   ]
  },
  {
   "cell_type": "code",
   "execution_count": 33,
   "id": "6a976a45-88ae-4130-ac16-1a09550d274c",
   "metadata": {},
   "outputs": [
    {
     "name": "stdout",
     "output_type": "stream",
     "text": [
      "Correct indentation\n",
      "this will print\n",
      "k xa\n"
     ]
    }
   ],
   "source": [
    "#Code example of indentation\n",
    "if True:\n",
    "    print(\"Correct indentation\")\n",
    "    if False:\n",
    "        print(\"THis wont print\")\n",
    "    print(\"this will print\")\n",
    "print(\"k xa\")"
   ]
  },
  {
   "cell_type": "code",
   "execution_count": 38,
   "id": "0db4bd9c-f5d8-4e17-a9e0-90d2d40e0dd8",
   "metadata": {},
   "outputs": [
    {
     "name": "stdout",
     "output_type": "stream",
     "text": [
      "ram\n",
      "32\n"
     ]
    }
   ],
   "source": [
    "age=32\n",
    "name=\"ram\"\n",
    "print(name)\n",
    "print(age)"
   ]
  },
  {
   "cell_type": "code",
   "execution_count": 43,
   "id": "05ee8ed0-3d74-439a-a5c9-f5312d1ff205",
   "metadata": {},
   "outputs": [
    {
     "name": "stdout",
     "output_type": "stream",
     "text": [
      "age 32\n"
     ]
    }
   ],
   "source": [
    "print(\"age\",age)"
   ]
  },
  {
   "cell_type": "code",
   "execution_count": 41,
   "id": "f5ebb46e-0eda-4d34-9fff-69bf6ec0cfbe",
   "metadata": {},
   "outputs": [
    {
     "name": "stdout",
     "output_type": "stream",
     "text": [
      "age: 32\n"
     ]
    }
   ],
   "source": [
    "print(f\"age: {age}\")"
   ]
  },
  {
   "cell_type": "code",
   "execution_count": 44,
   "id": "1c01e7aa-9b39-4086-b272-0c1d5102a496",
   "metadata": {},
   "outputs": [
    {
     "data": {
      "text/plain": [
       "str"
      ]
     },
     "execution_count": 44,
     "metadata": {},
     "output_type": "execute_result"
    }
   ],
   "source": [
    "type(name)"
   ]
  },
  {
   "cell_type": "code",
   "execution_count": 45,
   "id": "6f1ee8bb-b031-4ef3-9bb4-edd480378df7",
   "metadata": {},
   "outputs": [
    {
     "data": {
      "text/plain": [
       "int"
      ]
     },
     "execution_count": 45,
     "metadata": {},
     "output_type": "execute_result"
    }
   ],
   "source": [
    "type(age)"
   ]
  },
  {
   "cell_type": "code",
   "execution_count": 46,
   "id": "044eb2f8-1f94-44b6-b5a3-8cfec58ed5cd",
   "metadata": {},
   "outputs": [
    {
     "name": "stdout",
     "output_type": "stream",
     "text": [
      "32\n",
      "<class 'str'>\n"
     ]
    }
   ],
   "source": [
    "age_str=str(age)\n",
    "print(age_str)\n",
    "print(type(age_str))"
   ]
  },
  {
   "cell_type": "code",
   "execution_count": 53,
   "id": "921f7a3b-64b6-48bc-9e23-d6f8b3f54f7f",
   "metadata": {},
   "outputs": [
    {
     "name": "stdout",
     "output_type": "stream",
     "text": [
      "25\n",
      "<class 'str'>\n",
      "25\n",
      "<class 'str'>\n"
     ]
    }
   ],
   "source": [
    "age=\"25\"\n",
    "print(age)\n",
    "print(type(age))\n",
    "print(int(age))\n",
    "print(type(age))"
   ]
  },
  {
   "cell_type": "code",
   "execution_count": 51,
   "id": "ae53679f-bdfe-4ae2-9f50-3dd1ca5ac667",
   "metadata": {},
   "outputs": [
    {
     "data": {
      "text/plain": [
       "str"
      ]
     },
     "execution_count": 51,
     "metadata": {},
     "output_type": "execute_result"
    }
   ],
   "source": [
    "type(age)"
   ]
  },
  {
   "cell_type": "code",
   "execution_count": 52,
   "id": "f9613f38-e667-46b0-9862-48c176de1919",
   "metadata": {},
   "outputs": [
    {
     "name": "stdout",
     "output_type": "stream",
     "text": [
      "25\n"
     ]
    }
   ],
   "source": [
    "print(int(age))"
   ]
  },
  {
   "cell_type": "code",
   "execution_count": 55,
   "id": "386f4460-623a-43c2-a49a-b269199f73b0",
   "metadata": {},
   "outputs": [
    {
     "name": "stdout",
     "output_type": "stream",
     "text": [
      "10 <class 'int'>\n",
      "HEllo <class 'str'>\n"
     ]
    }
   ],
   "source": [
    "var=10\n",
    "print(var,type(var))\n",
    "var=\"HEllo\"\n",
    "print(var,type(var))"
   ]
  },
  {
   "cell_type": "code",
   "execution_count": 63,
   "id": "2c4af19c-17fc-4696-b5b8-cf9a16c97e39",
   "metadata": {},
   "outputs": [
    {
     "name": "stdout",
     "output_type": "stream",
     "text": [
      "What is the age 10\n"
     ]
    },
    {
     "name": "stdout",
     "output_type": "stream",
     "text": [
      "the age: 10\n"
     ]
    }
   ],
   "source": [
    "age=input(\"What is the age\")\n",
    "print(\"the age:\",age)"
   ]
  },
  {
   "cell_type": "code",
   "execution_count": 69,
   "id": "170ddfbc-de44-4bb9-bc8c-c7b74ccb31b1",
   "metadata": {},
   "outputs": [
    {
     "name": "stdout",
     "output_type": "stream",
     "text": [
      "enter the first number 12\n",
      "enter the second number 1\n"
     ]
    },
    {
     "name": "stdout",
     "output_type": "stream",
     "text": [
      "sum: 13.0\n",
      "mul: 12.0\n",
      "quo: 12.0\n",
      "diff: 11.0\n"
     ]
    }
   ],
   "source": [
    "# Caclulator using python add, sub ,mul ,div\n",
    "num1=float(input(\"enter the first number\"))\n",
    "num2= float(input(\"enter the second number\"))\n",
    "mul=num1*num2\n",
    "sum=num1+num2\n",
    "difference=num1-num2\n",
    "quotient=num1/num2\n",
    "print(\"sum:\",sum)\n",
    "print(\"mul:\",mul)\n",
    "print(\"quo:\",quotient)\n",
    "print(\"diff:\",difference)"
   ]
  },
  {
   "cell_type": "code",
   "execution_count": 1,
   "id": "0446963b-d36c-4203-92e7-c10144c10b82",
   "metadata": {},
   "outputs": [
    {
     "name": "stdout",
     "output_type": "stream",
     "text": [
      "hello world\n"
     ]
    }
   ],
   "source": [
    "print(\"hello world\")"
   ]
  },
  {
   "cell_type": "code",
   "execution_count": null,
   "id": "fe12aa61",
   "metadata": {},
   "outputs": [],
   "source": []
  }
 ],
 "metadata": {
  "kernelspec": {
   "display_name": "Python 3 (ipykernel)",
   "language": "python",
   "name": "python3"
  },
  "language_info": {
   "codemirror_mode": {
    "name": "ipython",
    "version": 3
   },
   "file_extension": ".py",
   "mimetype": "text/x-python",
   "name": "python",
   "nbconvert_exporter": "python",
   "pygments_lexer": "ipython3",
   "version": "3.12.4"
  }
 },
 "nbformat": 4,
 "nbformat_minor": 5
}
